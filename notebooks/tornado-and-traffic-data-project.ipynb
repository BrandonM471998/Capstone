{
 "cells": [
  {
   "cell_type": "markdown",
   "metadata": {},
   "source": [
    "### Started Importing the Datasets"
   ]
  },
  {
   "cell_type": "code",
   "execution_count": 100,
   "metadata": {},
   "outputs": [
    {
     "name": "stdout",
     "output_type": "stream",
     "text": [
      "Requirement already satisfied: dbfread in c:\\users\\touch\\anaconda3\\envs\\geospatial\\lib\\site-packages (2.0.7)\n",
      "Note: you may need to restart the kernel to use updated packages.\n"
     ]
    }
   ],
   "source": [
    "pip install dbfread"
   ]
  },
  {
   "cell_type": "code",
   "execution_count": 101,
   "metadata": {},
   "outputs": [],
   "source": [
    "#importing all packages for the project\n",
    "from shapely.geometry import Point\n",
    "import pandas as pd\n",
    "import geopandas as gpd\n",
    "import datetime\n",
    "import matplotlib.pyplot as plt\n",
    "import seaborn as sns\n",
    "import folium\n",
    "from folium.plugins import MarkerCluster\n",
    "from folium.plugins import FastMarkerCluster\n",
    "from dbfread import DBF\n",
    "%matplotlib inline"
   ]
  },
  {
   "cell_type": "code",
   "execution_count": 102,
   "metadata": {},
   "outputs": [],
   "source": [
    "#reading in the csv file\n",
    "population = pd.read_csv('../data/estimated_pop_2018.csv')"
   ]
  },
  {
   "cell_type": "code",
   "execution_count": 103,
   "metadata": {},
   "outputs": [],
   "source": [
    "#reading in the shp file\n",
    "counties = gpd.read_file('../data/county/tncounty.shp')"
   ]
  },
  {
   "cell_type": "code",
   "execution_count": 104,
   "metadata": {},
   "outputs": [],
   "source": [
    "#reading in the shp file\n",
    "tornado_tracks = gpd.read_file('../data/tornado/HistTornadoTracks.shp')"
   ]
  },
  {
   "cell_type": "code",
   "execution_count": 105,
   "metadata": {},
   "outputs": [],
   "source": [
    "#reading in the dbf file\n",
    "traffic_dbf = DBF('../data/TrfcHistYR.dbf')"
   ]
  },
  {
   "cell_type": "code",
   "execution_count": 106,
   "metadata": {},
   "outputs": [],
   "source": [
    "#iterating through the dbf file to make a dataframe\n",
    "traffic_data = pd.DataFrame(iter(traffic_dbf))"
   ]
  },
  {
   "cell_type": "markdown",
   "metadata": {},
   "source": [
    "### Started Slight Cleaning"
   ]
  },
  {
   "cell_type": "code",
   "execution_count": 107,
   "metadata": {},
   "outputs": [],
   "source": [
    "#changing the espg to match with other espg\n",
    "counties = counties.to_crs('EPSG:4326')"
   ]
  },
  {
   "cell_type": "code",
   "execution_count": 108,
   "metadata": {},
   "outputs": [],
   "source": [
    "#changing the espg to match with other espg\n",
    "tornado_tracks = tornado_tracks.to_crs('EPSG:4326')"
   ]
  },
  {
   "cell_type": "code",
   "execution_count": 109,
   "metadata": {},
   "outputs": [],
   "source": [
    "#renaming the name column in the counties dataframe\n",
    "counties.rename(columns={'NAME': 'COUNTY'}, inplace=True)"
   ]
  },
  {
   "cell_type": "code",
   "execution_count": 110,
   "metadata": {},
   "outputs": [],
   "source": [
    "#dropping an unecessary column\n",
    "counties = counties.drop(['OBJECTID'], axis = 1)"
   ]
  },
  {
   "cell_type": "code",
   "execution_count": 111,
   "metadata": {},
   "outputs": [],
   "source": [
    "#removing rows where the lat and long were equal to zero\n",
    "indexNames = traffic_data[(traffic_data['X'] == 0)].index\n",
    "traffic_data.drop(indexNames, inplace=True)"
   ]
  },
  {
   "cell_type": "code",
   "execution_count": 112,
   "metadata": {},
   "outputs": [],
   "source": [
    "#renaming columns for better readability\n",
    "tornado_tracks.rename(columns={'len':'len(mi)', 'mag':'magnitude', 'wid':'wid(yrd)',\n",
    "                              'inj':'injured', 'fat':'fatalities'}, inplace = True)"
   ]
  },
  {
   "cell_type": "markdown",
   "metadata": {},
   "source": [
    "### Lets Start to Explore the Datasets"
   ]
  },
  {
   "cell_type": "code",
   "execution_count": 113,
   "metadata": {},
   "outputs": [
    {
     "data": {
      "text/plain": [
       "<Geographic 2D CRS: EPSG:4326>\n",
       "Name: WGS 84\n",
       "Axis Info [ellipsoidal]:\n",
       "- Lat[north]: Geodetic latitude (degree)\n",
       "- Lon[east]: Geodetic longitude (degree)\n",
       "Area of Use:\n",
       "- name: World\n",
       "- bounds: (-180.0, -90.0, 180.0, 90.0)\n",
       "Datum: World Geodetic System 1984\n",
       "- Ellipsoid: WGS 84\n",
       "- Prime Meridian: Greenwich"
      ]
     },
     "execution_count": 113,
     "metadata": {},
     "output_type": "execute_result"
    }
   ],
   "source": [
    "#checking the crs of the counties dataframe\n",
    "counties.crs"
   ]
  },
  {
   "cell_type": "code",
   "execution_count": 114,
   "metadata": {},
   "outputs": [
    {
     "name": "stdout",
     "output_type": "stream",
     "text": [
      "<class 'pandas.core.frame.DataFrame'>\n",
      "RangeIndex: 95 entries, 0 to 94\n",
      "Data columns (total 13 columns):\n",
      " #   Column          Non-Null Count  Dtype \n",
      "---  ------          --------------  ----- \n",
      " 0   Counties        95 non-null     object\n",
      " 1   Census          95 non-null     object\n",
      " 2   Estimates Base  95 non-null     object\n",
      " 3   2010            95 non-null     object\n",
      " 4   2011            95 non-null     object\n",
      " 5   2012            95 non-null     object\n",
      " 6   2013            95 non-null     object\n",
      " 7   2014            95 non-null     object\n",
      " 8   2015            95 non-null     object\n",
      " 9   2016            95 non-null     object\n",
      " 10  2017            95 non-null     object\n",
      " 11  2018            95 non-null     object\n",
      " 12  2019            95 non-null     object\n",
      "dtypes: object(13)\n",
      "memory usage: 9.8+ KB\n"
     ]
    }
   ],
   "source": [
    "#reading the population info\n",
    "population.info()"
   ]
  },
  {
   "cell_type": "code",
   "execution_count": 115,
   "metadata": {},
   "outputs": [
    {
     "name": "stdout",
     "output_type": "stream",
     "text": [
      "<class 'geopandas.geodataframe.GeoDataFrame'>\n",
      "RangeIndex: 95 entries, 0 to 94\n",
      "Data columns (total 5 columns):\n",
      " #   Column      Non-Null Count  Dtype   \n",
      "---  ------      --------------  -----   \n",
      " 0   COUNTY      95 non-null     object  \n",
      " 1   KEY         95 non-null     object  \n",
      " 2   SHAPE_AREA  95 non-null     float64 \n",
      " 3   SHAPE_LEN   95 non-null     float64 \n",
      " 4   geometry    95 non-null     geometry\n",
      "dtypes: float64(2), geometry(1), object(2)\n",
      "memory usage: 3.8+ KB\n"
     ]
    }
   ],
   "source": [
    "#reading the counties info\n",
    "counties.info()"
   ]
  },
  {
   "cell_type": "code",
   "execution_count": 116,
   "metadata": {},
   "outputs": [
    {
     "name": "stdout",
     "output_type": "stream",
     "text": [
      "<class 'geopandas.geodataframe.GeoDataFrame'>\n",
      "RangeIndex: 1145 entries, 0 to 1144\n",
      "Data columns (total 26 columns):\n",
      " #   Column      Non-Null Count  Dtype   \n",
      "---  ------      --------------  -----   \n",
      " 0   OBJECTID    1145 non-null   int64   \n",
      " 1   om          1145 non-null   int64   \n",
      " 2   yr          1145 non-null   int64   \n",
      " 3   mo          1145 non-null   int64   \n",
      " 4   dy          1145 non-null   int64   \n",
      " 5   date        1145 non-null   object  \n",
      " 6   time        1145 non-null   object  \n",
      " 7   tz          1145 non-null   int64   \n",
      " 8   st          1145 non-null   object  \n",
      " 9   stf         1145 non-null   int64   \n",
      " 10  stn         1145 non-null   int64   \n",
      " 11  magnitude   1145 non-null   int64   \n",
      " 12  injured     1145 non-null   int64   \n",
      " 13  fatalities  1145 non-null   int64   \n",
      " 14  loss        612 non-null    float64 \n",
      " 15  closs       1145 non-null   float64 \n",
      " 16  slat        1145 non-null   float64 \n",
      " 17  slon        1145 non-null   float64 \n",
      " 18  elat        1145 non-null   float64 \n",
      " 19  elon        1145 non-null   float64 \n",
      " 20  len(mi)     1145 non-null   float64 \n",
      " 21  wid(yrd)    1145 non-null   int64   \n",
      " 22  fc          1145 non-null   int64   \n",
      " 23  Pre_1996_L  1145 non-null   object  \n",
      " 24  SHAPE_Leng  1145 non-null   float64 \n",
      " 25  geometry    1145 non-null   geometry\n",
      "dtypes: float64(8), geometry(1), int64(13), object(4)\n",
      "memory usage: 232.7+ KB\n"
     ]
    }
   ],
   "source": [
    "#reading the tornado info\n",
    "tornado_tracks.info()"
   ]
  },
  {
   "cell_type": "code",
   "execution_count": 117,
   "metadata": {},
   "outputs": [
    {
     "name": "stdout",
     "output_type": "stream",
     "text": [
      "<class 'pandas.core.frame.DataFrame'>\n",
      "Int64Index: 376787 entries, 0 to 376812\n",
      "Data columns (total 9 columns):\n",
      " #   Column      Non-Null Count   Dtype  \n",
      "---  ------      --------------   -----  \n",
      " 0   STATION_ID  376787 non-null  object \n",
      " 1   STN_NUMBER  376787 non-null  object \n",
      " 2   COUNTY      376787 non-null  object \n",
      " 3   LOCATION    376787 non-null  object \n",
      " 4   YEAR        376787 non-null  object \n",
      " 5   ADJAVGDLY   376787 non-null  float64\n",
      " 6   RTE_NUMBER  376787 non-null  object \n",
      " 7   X           376787 non-null  float64\n",
      " 8   Y           376787 non-null  float64\n",
      "dtypes: float64(3), object(6)\n",
      "memory usage: 28.7+ MB\n"
     ]
    }
   ],
   "source": [
    "#reading the traffic info\n",
    "traffic_data.info()"
   ]
  },
  {
   "cell_type": "markdown",
   "metadata": {},
   "source": [
    "### Creating a list of all counties"
   ]
  },
  {
   "cell_type": "code",
   "execution_count": 118,
   "metadata": {},
   "outputs": [],
   "source": [
    "#listed all counties in Tennessee to iterate through\n",
    "county_list = ['Anderson', 'Bedford', 'Benton', 'Bledsoe', 'Blount', 'Bradley', 'Campbell', 'Cannon', 'Carroll', 'Carter', \n",
    "               'Cheatham', 'Chester', 'Claiborne', 'Clay', 'Cocke', 'Coffee', 'Crockett', 'Cumberland', 'Davidson', \n",
    "               'Decatur', 'DeKalb', 'Dickson', 'Dyer', 'Fayette', 'Fentress', 'Franklin', 'Gibson', 'Giles', 'Grainger', \n",
    "               'Greene', 'Grundy', 'Hamblen', 'Hamilton', 'Hancock',\n",
    "               'Hardeman', 'Hardin', 'Hawkins', 'Haywood', 'Henderson',\n",
    "               'Henry', 'Hickman', 'Houston', 'Humphreys', 'Jackson', 'Jefferson', 'Johnson', \n",
    "               'Knox', 'Lake', 'Lauderdale', \n",
    "               'Lawrence', 'Lewis', 'Lincoln', 'Loudon', 'McMinn', 'McNairy', 'Macon', \n",
    "               'Madison', 'Marion', 'Marshall', 'Maury', \n",
    "               'Meigs', 'Monroe', 'Montgomery', 'Moore', 'Morgan', \n",
    "               'Obion', 'Overton', 'Perry', 'Pickett', 'Polk', 'Putnam', 'Rhea', \n",
    "               'Roane', 'Robertson', 'Rutherford', 'Scott', \n",
    "               'Sequatchie', 'Sevier', 'Shelby', 'Smith', 'Stewart', 'Sullivan', 'Sumner', \n",
    "               'Tipton', 'Trousdale', 'Unicoi', 'Union', 'Van Buren', 'Warren', 'Washington', 'Wayne', \n",
    "               'Weakley', 'White', 'Williamson', 'Wilson']"
   ]
  },
  {
   "cell_type": "markdown",
   "metadata": {},
   "source": [
    "### Cleaning the Population Data"
   ]
  },
  {
   "cell_type": "code",
   "execution_count": 119,
   "metadata": {},
   "outputs": [],
   "source": [
    "#creating a new column with the counties list to repace the other county column\n",
    "population['county_list'] = county_list"
   ]
  },
  {
   "cell_type": "code",
   "execution_count": 120,
   "metadata": {},
   "outputs": [],
   "source": [
    "#dropping unecessary columns\n",
    "population = population.drop(['Estimates Base', 'Census', 'Counties', '2010', '2011', '2012', '2013', \n",
    "                              '2014', '2015', '2016', '2017', '2019'], axis = 1)"
   ]
  },
  {
   "cell_type": "code",
   "execution_count": 121,
   "metadata": {},
   "outputs": [],
   "source": [
    "#renaming columns for consistency\n",
    "population.rename(columns={'county_list': 'COUNTY', '2018': 'pop'}, inplace=True)"
   ]
  },
  {
   "cell_type": "code",
   "execution_count": 122,
   "metadata": {},
   "outputs": [],
   "source": [
    "#removing commas to change the pop column to an integer\n",
    "population['pop']=population['pop'].str.replace(',','')"
   ]
  },
  {
   "cell_type": "code",
   "execution_count": 123,
   "metadata": {},
   "outputs": [],
   "source": [
    "#changing the datatype of the pop column to an integer\n",
    "population['pop'] = population['pop'].astype('int64')"
   ]
  },
  {
   "cell_type": "code",
   "execution_count": 124,
   "metadata": {},
   "outputs": [
    {
     "name": "stdout",
     "output_type": "stream",
     "text": [
      "<class 'pandas.core.frame.DataFrame'>\n",
      "RangeIndex: 95 entries, 0 to 94\n",
      "Data columns (total 2 columns):\n",
      " #   Column  Non-Null Count  Dtype \n",
      "---  ------  --------------  ----- \n",
      " 0   pop     95 non-null     int64 \n",
      " 1   COUNTY  95 non-null     object\n",
      "dtypes: int64(1), object(1)\n",
      "memory usage: 1.6+ KB\n"
     ]
    }
   ],
   "source": [
    "#checking to make sure it converted correctly\n",
    "population.info()"
   ]
  },
  {
   "cell_type": "markdown",
   "metadata": {},
   "source": [
    "### Creating a Traffic Subset That Only Includes The Year 2018"
   ]
  },
  {
   "cell_type": "code",
   "execution_count": 125,
   "metadata": {},
   "outputs": [],
   "source": [
    "#subsetting the traffic data\n",
    "traffic_data_2018 = traffic_data[traffic_data['YEAR'] == '2018']"
   ]
  },
  {
   "cell_type": "markdown",
   "metadata": {},
   "source": [
    "### Cleaning the 2018 Traffic Data"
   ]
  },
  {
   "cell_type": "code",
   "execution_count": 126,
   "metadata": {},
   "outputs": [],
   "source": [
    "#dropping unecessary columns\n",
    "traffic_data_2018 = traffic_data_2018.drop(['STN_NUMBER', 'LOCATION', 'RTE_NUMBER'], axis = 1)"
   ]
  },
  {
   "cell_type": "code",
   "execution_count": 127,
   "metadata": {},
   "outputs": [],
   "source": [
    "#renaming columns for consistency\n",
    "traffic_data_2018 = traffic_data_2018.rename(columns = {'X':'LONG','Y':'LAT'})"
   ]
  },
  {
   "cell_type": "code",
   "execution_count": 128,
   "metadata": {},
   "outputs": [],
   "source": [
    "#changing datatypes for the average daily traffic\n",
    "traffic_data_2018['ADJAVGDLY'] = traffic_data_2018['ADJAVGDLY'].astype('int64')"
   ]
  },
  {
   "cell_type": "code",
   "execution_count": 129,
   "metadata": {},
   "outputs": [
    {
     "name": "stdout",
     "output_type": "stream",
     "text": [
      "<class 'pandas.core.frame.DataFrame'>\n",
      "Int64Index: 12488 entries, 0 to 376779\n",
      "Data columns (total 6 columns):\n",
      " #   Column      Non-Null Count  Dtype  \n",
      "---  ------      --------------  -----  \n",
      " 0   STATION_ID  12488 non-null  object \n",
      " 1   COUNTY      12488 non-null  object \n",
      " 2   YEAR        12488 non-null  object \n",
      " 3   ADJAVGDLY   12488 non-null  int64  \n",
      " 4   LONG        12488 non-null  float64\n",
      " 5   LAT         12488 non-null  float64\n",
      "dtypes: float64(2), int64(1), object(3)\n",
      "memory usage: 682.9+ KB\n"
     ]
    }
   ],
   "source": [
    "#checking to make sure the column converted correctly\n",
    "traffic_data_2018.info()"
   ]
  },
  {
   "cell_type": "markdown",
   "metadata": {},
   "source": [
    "### Creating a GeoDataFrame for Traffic Data 2018"
   ]
  },
  {
   "cell_type": "code",
   "execution_count": 130,
   "metadata": {},
   "outputs": [],
   "source": [
    "#converting the traffic data to a geodataframe\n",
    "geo_traffic_data = gpd.GeoDataFrame(\n",
    "    traffic_data_2018, crs = 'EPSG:4326', geometry=gpd.points_from_xy(traffic_data_2018.LONG, traffic_data_2018.LAT))"
   ]
  },
  {
   "cell_type": "code",
   "execution_count": 131,
   "metadata": {},
   "outputs": [
    {
     "data": {
      "text/plain": [
       "<Geographic 2D CRS: EPSG:4326>\n",
       "Name: WGS 84\n",
       "Axis Info [ellipsoidal]:\n",
       "- Lat[north]: Geodetic latitude (degree)\n",
       "- Lon[east]: Geodetic longitude (degree)\n",
       "Area of Use:\n",
       "- name: World\n",
       "- bounds: (-180.0, -90.0, 180.0, 90.0)\n",
       "Datum: World Geodetic System 1984\n",
       "- Ellipsoid: WGS 84\n",
       "- Prime Meridian: Greenwich"
      ]
     },
     "execution_count": 131,
     "metadata": {},
     "output_type": "execute_result"
    }
   ],
   "source": [
    "#checking the crs\n",
    "geo_traffic_data.crs"
   ]
  },
  {
   "cell_type": "code",
   "execution_count": 132,
   "metadata": {},
   "outputs": [
    {
     "name": "stdout",
     "output_type": "stream",
     "text": [
      "<class 'geopandas.geodataframe.GeoDataFrame'>\n",
      "Int64Index: 12488 entries, 0 to 376779\n",
      "Data columns (total 7 columns):\n",
      " #   Column      Non-Null Count  Dtype   \n",
      "---  ------      --------------  -----   \n",
      " 0   STATION_ID  12488 non-null  object  \n",
      " 1   COUNTY      12488 non-null  object  \n",
      " 2   YEAR        12488 non-null  object  \n",
      " 3   ADJAVGDLY   12488 non-null  int64   \n",
      " 4   LONG        12488 non-null  float64 \n",
      " 5   LAT         12488 non-null  float64 \n",
      " 6   geometry    12488 non-null  geometry\n",
      "dtypes: float64(2), geometry(1), int64(1), object(3)\n",
      "memory usage: 780.5+ KB\n"
     ]
    }
   ],
   "source": [
    "#checking to make sure the dataframe converted correctly\n",
    "geo_traffic_data.info()"
   ]
  },
  {
   "cell_type": "markdown",
   "metadata": {},
   "source": [
    "### Creating subset dataframe from traffic, county, and population data"
   ]
  },
  {
   "cell_type": "code",
   "execution_count": 133,
   "metadata": {},
   "outputs": [],
   "source": [
    "#creating a groupby dataframe\n",
    "geo_group = geo_traffic_data.groupby('COUNTY')['ADJAVGDLY'].mean().reset_index()"
   ]
  },
  {
   "cell_type": "code",
   "execution_count": 134,
   "metadata": {},
   "outputs": [],
   "source": [
    "#rounding the decimals of the average daily traffic column\n",
    "geo_group['ADJAVGDLY'] = geo_group['ADJAVGDLY'].round(decimals = 2)"
   ]
  },
  {
   "cell_type": "code",
   "execution_count": 135,
   "metadata": {},
   "outputs": [],
   "source": [
    "#merging the groupby dataframe with the population dataframe\n",
    "traffic_pop_geo = geo_group.merge(population, on='COUNTY')"
   ]
  },
  {
   "cell_type": "code",
   "execution_count": 136,
   "metadata": {},
   "outputs": [],
   "source": [
    "#merging the traffic and pop dataframe with the counties dataframe\n",
    "traffic_pop_geo = counties.merge(traffic_pop_geo, on = 'COUNTY')"
   ]
  },
  {
   "cell_type": "code",
   "execution_count": 137,
   "metadata": {},
   "outputs": [
    {
     "name": "stdout",
     "output_type": "stream",
     "text": [
      "<class 'geopandas.geodataframe.GeoDataFrame'>\n",
      "Int64Index: 95 entries, 0 to 94\n",
      "Data columns (total 7 columns):\n",
      " #   Column      Non-Null Count  Dtype   \n",
      "---  ------      --------------  -----   \n",
      " 0   COUNTY      95 non-null     object  \n",
      " 1   KEY         95 non-null     object  \n",
      " 2   SHAPE_AREA  95 non-null     float64 \n",
      " 3   SHAPE_LEN   95 non-null     float64 \n",
      " 4   geometry    95 non-null     geometry\n",
      " 5   ADJAVGDLY   95 non-null     float64 \n",
      " 6   pop         95 non-null     int64   \n",
      "dtypes: float64(3), geometry(1), int64(1), object(2)\n",
      "memory usage: 5.9+ KB\n"
     ]
    }
   ],
   "source": [
    "#checking to make sure it converted correctly\n",
    "traffic_pop_geo.info()"
   ]
  },
  {
   "cell_type": "code",
   "execution_count": 138,
   "metadata": {},
   "outputs": [],
   "source": [
    "#creating a new column that normalizes daily traffic by population\n",
    "traffic_pop_geo['norm_avgdly'] = traffic_pop_geo['ADJAVGDLY']/traffic_pop_geo['pop']*5000\n",
    "traffic_pop_geo['norm_avgdly'] = traffic_pop_geo['norm_avgdly'].round(decimals = 2)"
   ]
  },
  {
   "cell_type": "markdown",
   "metadata": {},
   "source": [
    "### Cleaning the Tornado Data"
   ]
  },
  {
   "cell_type": "markdown",
   "metadata": {},
   "source": [
    "## NOTE: ALL TIME ZONES HAVE BEEN CONVERTED TO CST FOR THIS DATASET"
   ]
  },
  {
   "cell_type": "code",
   "execution_count": 139,
   "metadata": {},
   "outputs": [],
   "source": [
    "#dropping unecessary columns\n",
    "tornado_tracks = tornado_tracks.drop(['stf','om', 'Pre_1996_L', 'tz', 'stn', 'fc'], axis = 1)"
   ]
  },
  {
   "cell_type": "code",
   "execution_count": 140,
   "metadata": {},
   "outputs": [],
   "source": [
    "#removing lats that have zero in them\n",
    "indexElat = tornado_tracks[(tornado_tracks['elat'] == 0)].index\n",
    "tornado_tracks.drop(indexElat, inplace=True)"
   ]
  },
  {
   "cell_type": "code",
   "execution_count": 141,
   "metadata": {},
   "outputs": [],
   "source": [
    "#removing longs that have zero in them\n",
    "indexElon = tornado_tracks[(tornado_tracks['elon'] == 0)].index\n",
    "tornado_tracks.drop(indexElon, inplace=True)"
   ]
  },
  {
   "cell_type": "code",
   "execution_count": 142,
   "metadata": {},
   "outputs": [],
   "source": [
    "#converting the width into a new column, width in meters\n",
    "tornado_tracks['wid(m)'] = tornado_tracks['wid(yrd)']*0.9144\n",
    "tornado_tracks['wid(m)'] = tornado_tracks['wid(m)'].round(decimals = 2)"
   ]
  },
  {
   "cell_type": "code",
   "execution_count": 143,
   "metadata": {},
   "outputs": [],
   "source": [
    "#changing the time column to be datetime\n",
    "tornado_tracks['time'] = tornado_tracks.time.astype('datetime64[ns]')"
   ]
  },
  {
   "cell_type": "code",
   "execution_count": 144,
   "metadata": {},
   "outputs": [],
   "source": [
    "#changing the time column to only show the time of day\n",
    "tornado_tracks['time'] = tornado_tracks['time'].dt.time"
   ]
  },
  {
   "cell_type": "code",
   "execution_count": 145,
   "metadata": {},
   "outputs": [],
   "source": [
    "#changing the date column to be datetime\n",
    "tornado_tracks['date'] = tornado_tracks['date'].astype('datetime64[ns]')"
   ]
  },
  {
   "cell_type": "code",
   "execution_count": 146,
   "metadata": {},
   "outputs": [
    {
     "name": "stdout",
     "output_type": "stream",
     "text": [
      "<class 'geopandas.geodataframe.GeoDataFrame'>\n",
      "Int64Index: 817 entries, 7 to 1144\n",
      "Data columns (total 21 columns):\n",
      " #   Column      Non-Null Count  Dtype         \n",
      "---  ------      --------------  -----         \n",
      " 0   OBJECTID    817 non-null    int64         \n",
      " 1   yr          817 non-null    int64         \n",
      " 2   mo          817 non-null    int64         \n",
      " 3   dy          817 non-null    int64         \n",
      " 4   date        817 non-null    datetime64[ns]\n",
      " 5   time        817 non-null    object        \n",
      " 6   st          817 non-null    object        \n",
      " 7   magnitude   817 non-null    int64         \n",
      " 8   injured     817 non-null    int64         \n",
      " 9   fatalities  817 non-null    int64         \n",
      " 10  loss        606 non-null    float64       \n",
      " 11  closs       817 non-null    float64       \n",
      " 12  slat        817 non-null    float64       \n",
      " 13  slon        817 non-null    float64       \n",
      " 14  elat        817 non-null    float64       \n",
      " 15  elon        817 non-null    float64       \n",
      " 16  len(mi)     817 non-null    float64       \n",
      " 17  wid(yrd)    817 non-null    int64         \n",
      " 18  SHAPE_Leng  817 non-null    float64       \n",
      " 19  geometry    817 non-null    geometry      \n",
      " 20  wid(m)      817 non-null    float64       \n",
      "dtypes: datetime64[ns](1), float64(9), geometry(1), int64(8), object(2)\n",
      "memory usage: 172.7+ KB\n"
     ]
    }
   ],
   "source": [
    "#checking to make sure the changes happened correctly\n",
    "tornado_tracks.info()"
   ]
  },
  {
   "cell_type": "markdown",
   "metadata": {},
   "source": [
    "### Experimenting Plotting the Data"
   ]
  },
  {
   "cell_type": "code",
   "execution_count": 147,
   "metadata": {
    "scrolled": true
   },
   "outputs": [],
   "source": [
    "#gplt.pointplot(geo_traffic_data, projection=gcrs.AlbersEqualArea(), hue = 'ADJAVGDLY', legend=True, figsize = (20,20))"
   ]
  },
  {
   "cell_type": "code",
   "execution_count": 148,
   "metadata": {},
   "outputs": [
    {
     "data": {
      "image/png": "[encoded data removed]",
      "text/plain": [
       "<Figure size 576x720 with 1 Axes>"
      ]
     },
     "metadata": {
      "needs_background": "light"
     },
     "output_type": "display_data"
    }
   ],
   "source": [
    "ax = counties.plot(figsize = (8, 10), color = 'lightgreen')\n",
    "geo_traffic_data.plot( ax = ax, column = 'ADJAVGDLY');\n",
    "plt.show();"
   ]
  },
  {
   "cell_type": "code",
   "execution_count": 248,
   "metadata": {},
   "outputs": [
    {
     "data": {
      "text/plain": [
       "<AxesSubplot:xlabel='LONG', ylabel='LAT'>"
      ]
     },
     "execution_count": 248,
     "metadata": {},
     "output_type": "execute_result"
    },
    {
     "data": {
      "image/png": "[encoded data removed]",
      "text/plain": [
       "<Figure size 432x288 with 1 Axes>"
      ]
     },
     "metadata": {
      "needs_background": "light"
     },
     "output_type": "display_data"
    }
   ],
   "source": [
    "fig, ax = plt.subplots()\n",
    "sns.kdeplot(x = 'LONG', y = 'LAT', ax = ax, fill = True, color = 'red', data = geo_traffic_data)\n",
    "counties.boundary.plot(ax = ax, figsize = (8, 10), color = 'white', edgecolor = 'black')"
   ]
  },
  {
   "cell_type": "code",
   "execution_count": 150,
   "metadata": {},
   "outputs": [
    {
     "data": {
      "image/png": "[encoded data removed]",
      "text/plain": [
       "<Figure size 576x720 with 1 Axes>"
      ]
     },
     "metadata": {
      "needs_background": "light"
     },
     "output_type": "display_data"
    }
   ],
   "source": [
    "ax = counties.plot(figsize = (8, 10), color = 'lightgreen')\n",
    "tornado_tracks.plot( ax = ax);\n",
    "plt.show();"
   ]
  },
  {
   "cell_type": "code",
   "execution_count": 151,
   "metadata": {},
   "outputs": [
    {
     "data": {
      "text/plain": [
       "(1, 5)"
      ]
     },
     "execution_count": 151,
     "metadata": {},
     "output_type": "execute_result"
    }
   ],
   "source": [
    "davidson = counties.loc[counties['COUNTY'] == 'Davidson']\n",
    "davidson.shape"
   ]
  },
  {
   "cell_type": "code",
   "execution_count": 152,
   "metadata": {},
   "outputs": [
    {
     "data": {
      "image/png": "[encoded data removed]",
      "text/plain": [
       "<Figure size 576x720 with 1 Axes>"
      ]
     },
     "metadata": {
      "needs_background": "light"
     },
     "output_type": "display_data"
    }
   ],
   "source": [
    "ax = davidson.plot(figsize = (8, 10), color = 'lightgreen')\n",
    "tornado_tracks.plot( ax = ax);\n",
    "plt.show();"
   ]
  },
  {
   "cell_type": "markdown",
   "metadata": {},
   "source": [
    "### Coding Breakthrough Below"
   ]
  },
  {
   "cell_type": "code",
   "execution_count": 153,
   "metadata": {},
   "outputs": [],
   "source": [
    "davidson_tornado = gpd.overlay(tornado_tracks, davidson, how = 'intersection')"
   ]
  },
  {
   "cell_type": "code",
   "execution_count": 154,
   "metadata": {},
   "outputs": [
    {
     "data": {
      "text/plain": [
       "<AxesSubplot:>"
      ]
     },
     "execution_count": 154,
     "metadata": {},
     "output_type": "execute_result"
    },
    {
     "data": {
      "image/png": "[encoded data removed]",
      "text/plain": [
       "<Figure size 432x288 with 1 Axes>"
      ]
     },
     "metadata": {
      "needs_background": "light"
     },
     "output_type": "display_data"
    }
   ],
   "source": [
    "davidson_tornado.plot()"
   ]
  },
  {
   "cell_type": "code",
   "execution_count": 155,
   "metadata": {},
   "outputs": [
    {
     "data": {
      "image/png": "[encoded data removed]",
      "text/plain": [
       "<Figure size 576x720 with 1 Axes>"
      ]
     },
     "metadata": {
      "needs_background": "light"
     },
     "output_type": "display_data"
    }
   ],
   "source": [
    "ax = davidson.plot(figsize = (8, 10), color = 'lightgreen')\n",
    "davidson_tornado.plot(ax = ax);\n",
    "plt.show();"
   ]
  },
  {
   "cell_type": "markdown",
   "metadata": {},
   "source": [
    "### Creating the final geodataframe for the project."
   ]
  },
  {
   "cell_type": "code",
   "execution_count": 156,
   "metadata": {},
   "outputs": [],
   "source": [
    "county_tornado = gpd.overlay(tornado_tracks, traffic_pop_geo, how = 'intersection')"
   ]
  },
  {
   "cell_type": "code",
   "execution_count": 157,
   "metadata": {},
   "outputs": [
    {
     "name": "stdout",
     "output_type": "stream",
     "text": [
      "<class 'geopandas.geodataframe.GeoDataFrame'>\n",
      "RangeIndex: 1039 entries, 0 to 1038\n",
      "Data columns (total 28 columns):\n",
      " #   Column       Non-Null Count  Dtype         \n",
      "---  ------       --------------  -----         \n",
      " 0   OBJECTID     1039 non-null   int64         \n",
      " 1   yr           1039 non-null   int64         \n",
      " 2   mo           1039 non-null   int64         \n",
      " 3   dy           1039 non-null   int64         \n",
      " 4   date         1039 non-null   datetime64[ns]\n",
      " 5   time         1039 non-null   object        \n",
      " 6   st           1039 non-null   object        \n",
      " 7   magnitude    1039 non-null   int64         \n",
      " 8   injured      1039 non-null   int64         \n",
      " 9   fatalities   1039 non-null   int64         \n",
      " 10  loss         732 non-null    float64       \n",
      " 11  closs        1039 non-null   float64       \n",
      " 12  slat         1039 non-null   float64       \n",
      " 13  slon         1039 non-null   float64       \n",
      " 14  elat         1039 non-null   float64       \n",
      " 15  elon         1039 non-null   float64       \n",
      " 16  len(mi)      1039 non-null   float64       \n",
      " 17  wid(yrd)     1039 non-null   int64         \n",
      " 18  SHAPE_Leng   1039 non-null   float64       \n",
      " 19  wid(m)       1039 non-null   float64       \n",
      " 20  COUNTY       1039 non-null   object        \n",
      " 21  KEY          1039 non-null   object        \n",
      " 22  SHAPE_AREA   1039 non-null   float64       \n",
      " 23  SHAPE_LEN    1039 non-null   float64       \n",
      " 24  ADJAVGDLY    1039 non-null   float64       \n",
      " 25  pop          1039 non-null   int64         \n",
      " 26  norm_avgdly  1039 non-null   float64       \n",
      " 27  geometry     1039 non-null   geometry      \n",
      "dtypes: datetime64[ns](1), float64(13), geometry(1), int64(9), object(4)\n",
      "memory usage: 227.4+ KB\n"
     ]
    }
   ],
   "source": [
    "county_tornado.info()"
   ]
  },
  {
   "cell_type": "markdown",
   "metadata": {},
   "source": [
    "### Cleaning the Dataset"
   ]
  },
  {
   "cell_type": "code",
   "execution_count": 158,
   "metadata": {},
   "outputs": [],
   "source": [
    "#dropping unecessary columns\n",
    "county_tornado = county_tornado.drop(['st'], axis = 1)"
   ]
  },
  {
   "cell_type": "code",
   "execution_count": 159,
   "metadata": {},
   "outputs": [
    {
     "data": {
      "text/html": [
       "<div>\n",
       "<style scoped>\n",
       "    .dataframe tbody tr th:only-of-type {\n",
       "        vertical-align: middle;\n",
       "    }\n",
       "\n",
       "    .dataframe tbody tr th {\n",
       "        vertical-align: top;\n",
       "    }\n",
       "\n",
       "    .dataframe thead th {\n",
       "        text-align: right;\n",
       "    }\n",
       "</style>\n",
       "<table border=\"1\" class=\"dataframe\">\n",
       "  <thead>\n",
       "    <tr style=\"text-align: right;\">\n",
       "      <th></th>\n",
       "      <th>OBJECTID</th>\n",
       "      <th>yr</th>\n",
       "      <th>mo</th>\n",
       "      <th>dy</th>\n",
       "      <th>date</th>\n",
       "      <th>time</th>\n",
       "      <th>magnitude</th>\n",
       "      <th>injured</th>\n",
       "      <th>fatalities</th>\n",
       "      <th>loss</th>\n",
       "      <th>...</th>\n",
       "      <th>SHAPE_Leng</th>\n",
       "      <th>wid(m)</th>\n",
       "      <th>COUNTY</th>\n",
       "      <th>KEY</th>\n",
       "      <th>SHAPE_AREA</th>\n",
       "      <th>SHAPE_LEN</th>\n",
       "      <th>ADJAVGDLY</th>\n",
       "      <th>pop</th>\n",
       "      <th>norm_avgdly</th>\n",
       "      <th>geometry</th>\n",
       "    </tr>\n",
       "  </thead>\n",
       "  <tbody>\n",
       "    <tr>\n",
       "      <th>0</th>\n",
       "      <td>486</td>\n",
       "      <td>1952</td>\n",
       "      <td>2</td>\n",
       "      <td>13</td>\n",
       "      <td>1952-02-13</td>\n",
       "      <td>22:00:00</td>\n",
       "      <td>3</td>\n",
       "      <td>2</td>\n",
       "      <td>0</td>\n",
       "      <td>NaN</td>\n",
       "      <td>...</td>\n",
       "      <td>14471.538000</td>\n",
       "      <td>320.04</td>\n",
       "      <td>Lincoln</td>\n",
       "      <td>47103</td>\n",
       "      <td>1.591347e+10</td>\n",
       "      <td>612031.885628</td>\n",
       "      <td>3055.48</td>\n",
       "      <td>34189</td>\n",
       "      <td>446.85</td>\n",
       "      <td>LINESTRING (-86.60000 35.22001, -86.47000 35.2...</td>\n",
       "    </tr>\n",
       "    <tr>\n",
       "      <th>1</th>\n",
       "      <td>12375</td>\n",
       "      <td>1971</td>\n",
       "      <td>3</td>\n",
       "      <td>6</td>\n",
       "      <td>1971-03-06</td>\n",
       "      <td>14:39:00</td>\n",
       "      <td>1</td>\n",
       "      <td>0</td>\n",
       "      <td>0</td>\n",
       "      <td>NaN</td>\n",
       "      <td>...</td>\n",
       "      <td>78504.072723</td>\n",
       "      <td>182.88</td>\n",
       "      <td>Lincoln</td>\n",
       "      <td>47103</td>\n",
       "      <td>1.591347e+10</td>\n",
       "      <td>612031.885628</td>\n",
       "      <td>3055.48</td>\n",
       "      <td>34189</td>\n",
       "      <td>446.85</td>\n",
       "      <td>LINESTRING (-86.83162 35.14984, -86.63000 35.1...</td>\n",
       "    </tr>\n",
       "    <tr>\n",
       "      <th>2</th>\n",
       "      <td>14256</td>\n",
       "      <td>1973</td>\n",
       "      <td>5</td>\n",
       "      <td>19</td>\n",
       "      <td>1973-05-19</td>\n",
       "      <td>14:15:00</td>\n",
       "      <td>1</td>\n",
       "      <td>0</td>\n",
       "      <td>0</td>\n",
       "      <td>NaN</td>\n",
       "      <td>...</td>\n",
       "      <td>6906.317100</td>\n",
       "      <td>9.14</td>\n",
       "      <td>Lincoln</td>\n",
       "      <td>47103</td>\n",
       "      <td>1.591347e+10</td>\n",
       "      <td>612031.885628</td>\n",
       "      <td>3055.48</td>\n",
       "      <td>34189</td>\n",
       "      <td>446.85</td>\n",
       "      <td>LINESTRING (-86.52000 35.25001, -86.47000 35.2...</td>\n",
       "    </tr>\n",
       "    <tr>\n",
       "      <th>3</th>\n",
       "      <td>15187</td>\n",
       "      <td>1974</td>\n",
       "      <td>4</td>\n",
       "      <td>3</td>\n",
       "      <td>1974-04-03</td>\n",
       "      <td>18:45:00</td>\n",
       "      <td>4</td>\n",
       "      <td>121</td>\n",
       "      <td>11</td>\n",
       "      <td>NaN</td>\n",
       "      <td>...</td>\n",
       "      <td>63910.039346</td>\n",
       "      <td>731.52</td>\n",
       "      <td>Lincoln</td>\n",
       "      <td>47103</td>\n",
       "      <td>1.591347e+10</td>\n",
       "      <td>612031.885628</td>\n",
       "      <td>3055.48</td>\n",
       "      <td>34189</td>\n",
       "      <td>446.85</td>\n",
       "      <td>LINESTRING (-86.50000 35.00001, -86.33505 35.1...</td>\n",
       "    </tr>\n",
       "    <tr>\n",
       "      <th>4</th>\n",
       "      <td>18107</td>\n",
       "      <td>1977</td>\n",
       "      <td>6</td>\n",
       "      <td>6</td>\n",
       "      <td>1977-06-06</td>\n",
       "      <td>15:20:00</td>\n",
       "      <td>0</td>\n",
       "      <td>0</td>\n",
       "      <td>0</td>\n",
       "      <td>NaN</td>\n",
       "      <td>...</td>\n",
       "      <td>18032.989275</td>\n",
       "      <td>402.34</td>\n",
       "      <td>Lincoln</td>\n",
       "      <td>47103</td>\n",
       "      <td>1.591347e+10</td>\n",
       "      <td>612031.885628</td>\n",
       "      <td>3055.48</td>\n",
       "      <td>34189</td>\n",
       "      <td>446.85</td>\n",
       "      <td>LINESTRING (-86.62000 35.20001, -86.47000 35.1...</td>\n",
       "    </tr>\n",
       "  </tbody>\n",
       "</table>\n",
       "<p>5 rows × 27 columns</p>\n",
       "</div>"
      ],
      "text/plain": [
       "   OBJECTID    yr  mo  dy       date      time  magnitude  injured  \\\n",
       "0       486  1952   2  13 1952-02-13  22:00:00          3        2   \n",
       "1     12375  1971   3   6 1971-03-06  14:39:00          1        0   \n",
       "2     14256  1973   5  19 1973-05-19  14:15:00          1        0   \n",
       "3     15187  1974   4   3 1974-04-03  18:45:00          4      121   \n",
       "4     18107  1977   6   6 1977-06-06  15:20:00          0        0   \n",
       "\n",
       "   fatalities  loss  ...    SHAPE_Leng  wid(m)   COUNTY    KEY    SHAPE_AREA  \\\n",
       "0           0   NaN  ...  14471.538000  320.04  Lincoln  47103  1.591347e+10   \n",
       "1           0   NaN  ...  78504.072723  182.88  Lincoln  47103  1.591347e+10   \n",
       "2           0   NaN  ...   6906.317100    9.14  Lincoln  47103  1.591347e+10   \n",
       "3          11   NaN  ...  63910.039346  731.52  Lincoln  47103  1.591347e+10   \n",
       "4           0   NaN  ...  18032.989275  402.34  Lincoln  47103  1.591347e+10   \n",
       "\n",
       "       SHAPE_LEN  ADJAVGDLY    pop  norm_avgdly  \\\n",
       "0  612031.885628    3055.48  34189       446.85   \n",
       "1  612031.885628    3055.48  34189       446.85   \n",
       "2  612031.885628    3055.48  34189       446.85   \n",
       "3  612031.885628    3055.48  34189       446.85   \n",
       "4  612031.885628    3055.48  34189       446.85   \n",
       "\n",
       "                                            geometry  \n",
       "0  LINESTRING (-86.60000 35.22001, -86.47000 35.2...  \n",
       "1  LINESTRING (-86.83162 35.14984, -86.63000 35.1...  \n",
       "2  LINESTRING (-86.52000 35.25001, -86.47000 35.2...  \n",
       "3  LINESTRING (-86.50000 35.00001, -86.33505 35.1...  \n",
       "4  LINESTRING (-86.62000 35.20001, -86.47000 35.1...  \n",
       "\n",
       "[5 rows x 27 columns]"
      ]
     },
     "execution_count": 159,
     "metadata": {},
     "output_type": "execute_result"
    }
   ],
   "source": [
    "county_tornado.head()"
   ]
  },
  {
   "cell_type": "code",
   "execution_count": 160,
   "metadata": {},
   "outputs": [
    {
     "data": {
      "text/plain": [
       "26829    6\n",
       "60069    4\n",
       "56353    4\n",
       "50519    4\n",
       "38078    4\n",
       "        ..\n",
       "58203    1\n",
       "58083    1\n",
       "2913     1\n",
       "39781    1\n",
       "55295    1\n",
       "Name: OBJECTID, Length: 816, dtype: int64"
      ]
     },
     "execution_count": 160,
     "metadata": {},
     "output_type": "execute_result"
    }
   ],
   "source": [
    "#there is overlap with tornadoes that go through multiple counties\n",
    "county_tornado['OBJECTID'].value_counts()"
   ]
  },
  {
   "cell_type": "markdown",
   "metadata": {},
   "source": [
    "### Kanban Board Tasks"
   ]
  },
  {
   "cell_type": "markdown",
   "metadata": {},
   "source": [
    "### 1. KPI: there are 816 tornadoes that struck Tennessee from the years 1950-2015"
   ]
  },
  {
   "cell_type": "code",
   "execution_count": 161,
   "metadata": {},
   "outputs": [
    {
     "data": {
      "text/plain": [
       "816"
      ]
     },
     "execution_count": 161,
     "metadata": {},
     "output_type": "execute_result"
    }
   ],
   "source": [
    "#ther will be some overlap with values repeating since I broke the dataset up by each county\n",
    "county_tornado['OBJECTID'].nunique()"
   ]
  },
  {
   "cell_type": "markdown",
   "metadata": {},
   "source": [
    "### 2. what counties have the most tornadoes?"
   ]
  },
  {
   "cell_type": "code",
   "execution_count": 162,
   "metadata": {},
   "outputs": [],
   "source": [
    "#use county_tornado dataset"
   ]
  },
  {
   "cell_type": "code",
   "execution_count": 250,
   "metadata": {},
   "outputs": [
    {
     "data": {
      "text/plain": [
       "Rutherford    31\n",
       "Davidson      31\n",
       "Sumner        29\n",
       "Wilson        25\n",
       "Lawrence      25\n",
       "              ..\n",
       "Unicoi         2\n",
       "Johnson        2\n",
       "Hancock        2\n",
       "Hamblen        1\n",
       "Clay           1\n",
       "Name: COUNTY, Length: 95, dtype: int64"
      ]
     },
     "execution_count": 250,
     "metadata": {},
     "output_type": "execute_result"
    }
   ],
   "source": [
    "county_tornado['COUNTY'].value_counts()"
   ]
  },
  {
   "cell_type": "markdown",
   "metadata": {},
   "source": [
    "### Rutherford and Davidson have the most with 31, while Sumner has 29."
   ]
  },
  {
   "cell_type": "markdown",
   "metadata": {},
   "source": [
    "### 3. what counties have the most traffic?"
   ]
  },
  {
   "cell_type": "code",
   "execution_count": 163,
   "metadata": {},
   "outputs": [],
   "source": [
    "#use traffic_pop_geo dataset"
   ]
  },
  {
   "cell_type": "code",
   "execution_count": 249,
   "metadata": {},
   "outputs": [
    {
     "data": {
      "text/plain": [
       "Text(0.5, 1.0, 'Top 5 Counties For Traffic')"
      ]
     },
     "execution_count": 249,
     "metadata": {},
     "output_type": "execute_result"
    },
    {
     "data": {
      "image/png": "[encoded data removed]",
      "text/plain": [
       "<Figure size 720x720 with 1 Axes>"
      ]
     },
     "metadata": {
      "needs_background": "light"
     },
     "output_type": "display_data"
    }
   ],
   "source": [
    "data = traffic_pop_geo.sort_values('ADJAVGDLY', ascending = False).head()\n",
    "plt.figure(figsize = (10,10))\n",
    "plt.bar('COUNTY', 'ADJAVGDLY', data = data)\n",
    "plt.xticks(rotation = 70)\n",
    "plt.title('Top 5 Counties For Traffic')"
   ]
  },
  {
   "cell_type": "code",
   "execution_count": 240,
   "metadata": {},
   "outputs": [],
   "source": [
    "plt.xscale?"
   ]
  },
  {
   "cell_type": "markdown",
   "metadata": {},
   "source": [
    "### 4. what year had the most tornadoes?"
   ]
  },
  {
   "cell_type": "code",
   "execution_count": 176,
   "metadata": {},
   "outputs": [
    {
     "data": {
      "text/plain": [
       "2011    97\n",
       "2009    46\n",
       "2003    45\n",
       "2013    41\n",
       "2008    36\n",
       "1997    36\n",
       "1974    34\n",
       "1998    32\n",
       "2002    30\n",
       "2010    30\n",
       "2012    28\n",
       "2000    27\n",
       "2006    25\n",
       "1999    23\n",
       "2005    23\n",
       "1996    17\n",
       "2015    16\n",
       "1995    15\n",
       "2004    15\n",
       "2014    15\n",
       "2001    14\n",
       "1963    11\n",
       "1994    11\n",
       "2007    10\n",
       "1971     9\n",
       "1988     9\n",
       "1952     8\n",
       "1980     7\n",
       "1957     7\n",
       "1955     7\n",
       "1977     7\n",
       "1975     6\n",
       "1993     6\n",
       "1984     5\n",
       "1985     5\n",
       "1989     5\n",
       "1953     5\n",
       "1970     5\n",
       "1991     4\n",
       "1967     4\n",
       "1964     4\n",
       "1976     4\n",
       "1956     4\n",
       "1965     4\n",
       "1961     3\n",
       "1973     3\n",
       "1972     3\n",
       "1978     2\n",
       "1959     2\n",
       "1992     2\n",
       "1982     2\n",
       "1983     2\n",
       "1968     1\n",
       "1962     1\n",
       "1979     1\n",
       "1960     1\n",
       "1986     1\n",
       "1954     1\n",
       "Name: yr, dtype: int64"
      ]
     },
     "execution_count": 176,
     "metadata": {},
     "output_type": "execute_result"
    }
   ],
   "source": [
    "tornado_tracks['yr'].value_counts()"
   ]
  },
  {
   "cell_type": "markdown",
   "metadata": {},
   "source": [
    "### 2011 had 97 tornadoes, with 2009 having 46, and 2003 having 45"
   ]
  },
  {
   "cell_type": "markdown",
   "metadata": {},
   "source": [
    "### 5. What time do tornadoes typically strike?"
   ]
  },
  {
   "cell_type": "code",
   "execution_count": 165,
   "metadata": {},
   "outputs": [
    {
     "name": "stdout",
     "output_type": "stream",
     "text": [
      "count          817\n",
      "unique         457\n",
      "top       16:30:00\n",
      "freq            12\n",
      "Name: time, dtype: object\n"
     ]
    }
   ],
   "source": [
    "print(tornado_tracks['time'].describe())"
   ]
  },
  {
   "cell_type": "code",
   "execution_count": 168,
   "metadata": {},
   "outputs": [],
   "source": [
    "#print(tornado_tracks['time'].mean())"
   ]
  },
  {
   "cell_type": "markdown",
   "metadata": {},
   "source": [
    "### They typically srike at 2:30 P.M."
   ]
  },
  {
   "cell_type": "markdown",
   "metadata": {},
   "source": [
    "### Plotting the Charts for Daily Traffic and Population"
   ]
  },
  {
   "cell_type": "code",
   "execution_count": null,
   "metadata": {},
   "outputs": [],
   "source": [
    "fig, ax = plt.subplots(figsize=(16,4))\n",
    "traffic_pop_geo.plot(column = 'norm_avgdly', \n",
    "              cmap = 'GnBu', \n",
    "              edgecolor = 'black', \n",
    "              legend = True,\n",
    "              ax = ax)\n",
    "plt.title('Average Daily Traffic Per Capita', fontsize = 14)\n",
    "ax.axis('off');"
   ]
  },
  {
   "cell_type": "code",
   "execution_count": null,
   "metadata": {},
   "outputs": [],
   "source": [
    "fig, ax = plt.subplots(figsize=(16,4))\n",
    "traffic_pop_geo.plot(column = 'ADJAVGDLY', \n",
    "              cmap = 'GnBu', \n",
    "              edgecolor = 'black', \n",
    "              legend = True,\n",
    "              ax = ax)\n",
    "plt.title('Average Daily Traffic by County', fontsize = 14)\n",
    "ax.axis('off');"
   ]
  },
  {
   "cell_type": "code",
   "execution_count": null,
   "metadata": {},
   "outputs": [],
   "source": [
    "fig, ax = plt.subplots(figsize=(16,4))\n",
    "traffic_pop_geo.plot(column = 'pop', \n",
    "              cmap = 'GnBu', \n",
    "              edgecolor = 'black', \n",
    "              legend = True,\n",
    "              ax = ax)\n",
    "plt.title('Population by County', fontsize = 14)\n",
    "ax.axis('off');"
   ]
  },
  {
   "cell_type": "markdown",
   "metadata": {},
   "source": [
    "### Exporting Necessary Tables to CSV For Dashboarding"
   ]
  },
  {
   "cell_type": "code",
   "execution_count": 169,
   "metadata": {},
   "outputs": [],
   "source": [
    "county_tornado.to_csv(r'C:\\Users\\touch\\Documents\\nss\\data\\Tennessee_Tornadoes.csv', index = False)"
   ]
  },
  {
   "cell_type": "code",
   "execution_count": 170,
   "metadata": {},
   "outputs": [],
   "source": [
    "counties.to_csv(r'C:\\Users\\touch\\Documents\\nss\\data\\Counties.csv', index = False)"
   ]
  }
 ],
 "metadata": {
  "kernelspec": {
   "display_name": "Python 3",
   "language": "python",
   "name": "python3"
  },
  "language_info": {
   "codemirror_mode": {
    "name": "ipython",
    "version": 3
   },
   "file_extension": ".py",
   "mimetype": "text/x-python",
   "name": "python",
   "nbconvert_exporter": "python",
   "pygments_lexer": "ipython3",
   "version": "3.8.5"
  }
 },
 "nbformat": 4,
 "nbformat_minor": 4
}
