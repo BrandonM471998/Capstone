{
 "cells": [
  {
   "cell_type": "markdown",
   "metadata": {},
   "source": [
    "### Started Importing the Datasets"
   ]
  },
  {
   "cell_type": "code",
   "execution_count": 352,
   "metadata": {},
   "outputs": [
    {
     "name": "stdout",
     "output_type": "stream",
     "text": [
      "Requirement already satisfied: dbfread in c:\\users\\touch\\anaconda3\\envs\\geospatial\\lib\\site-packages (2.0.7)\n",
      "Note: you may need to restart the kernel to use updated packages.\n"
     ]
    }
   ],
   "source": [
    "pip install dbfread"
   ]
  },
  {
   "cell_type": "code",
   "execution_count": 353,
   "metadata": {},
   "outputs": [],
   "source": [
    "from shapely.geometry import Point\n",
    "import pandas as pd\n",
    "import geopandas as gpd\n",
    "import geoplot as gplt\n",
    "import matplotlib.pyplot as plt\n",
    "import seaborn as sns\n",
    "import geoplot.crs as gcrs\n",
    "import folium\n",
    "from folium.plugins import MarkerCluster\n",
    "from folium.plugins import FastMarkerCluster\n",
    "from dbfread import DBF\n",
    "%matplotlib inline"
   ]
  },
  {
   "cell_type": "code",
   "execution_count": 354,
   "metadata": {},
   "outputs": [],
   "source": [
    "population = pd.read_csv('../data/estimated_pop_2018.csv')"
   ]
  },
  {
   "cell_type": "code",
   "execution_count": 355,
   "metadata": {},
   "outputs": [],
   "source": [
    "counties = gpd.read_file('../data/county/tncounty.shp')"
   ]
  },
  {
   "cell_type": "code",
   "execution_count": 356,
   "metadata": {},
   "outputs": [],
   "source": [
    "tornado_tracks = pd.read_csv('../data/Historical_Tornado_Tracks.csv')"
   ]
  },
  {
   "cell_type": "code",
   "execution_count": 357,
   "metadata": {},
   "outputs": [],
   "source": [
    "traffic_dbf = DBF('../data/TrfcHistYR.dbf')"
   ]
  },
  {
   "cell_type": "code",
   "execution_count": 358,
   "metadata": {},
   "outputs": [],
   "source": [
    "traffic_data = pd.DataFrame(iter(traffic_dbf))"
   ]
  },
  {
   "cell_type": "markdown",
   "metadata": {},
   "source": [
    "### Lets Start to Explore the Datasets"
   ]
  },
  {
   "cell_type": "code",
   "execution_count": 359,
   "metadata": {},
   "outputs": [
    {
     "data": {
      "text/plain": [
       "<Projected CRS: EPSG:2274>\n",
       "Name: NAD83 / Tennessee (ftUS)\n",
       "Axis Info [cartesian]:\n",
       "- X[east]: Easting (US survey foot)\n",
       "- Y[north]: Northing (US survey foot)\n",
       "Area of Use:\n",
       "- name: USA - Tennessee\n",
       "- bounds: (-90.31, 34.98, -81.65, 36.68)\n",
       "Coordinate Operation:\n",
       "- name: SPCS83 Tennessee zone (US Survey feet)\n",
       "- method: Lambert Conic Conformal (2SP)\n",
       "Datum: North American Datum 1983\n",
       "- Ellipsoid: GRS 1980\n",
       "- Prime Meridian: Greenwich"
      ]
     },
     "execution_count": 359,
     "metadata": {},
     "output_type": "execute_result"
    }
   ],
   "source": [
    "counties.crs"
   ]
  },
  {
   "cell_type": "code",
   "execution_count": 360,
   "metadata": {},
   "outputs": [
    {
     "data": {
      "text/html": [
       "<div>\n",
       "<style scoped>\n",
       "    .dataframe tbody tr th:only-of-type {\n",
       "        vertical-align: middle;\n",
       "    }\n",
       "\n",
       "    .dataframe tbody tr th {\n",
       "        vertical-align: top;\n",
       "    }\n",
       "\n",
       "    .dataframe thead th {\n",
       "        text-align: right;\n",
       "    }\n",
       "</style>\n",
       "<table border=\"1\" class=\"dataframe\">\n",
       "  <thead>\n",
       "    <tr style=\"text-align: right;\">\n",
       "      <th></th>\n",
       "      <th>Counties</th>\n",
       "      <th>Census</th>\n",
       "      <th>Estimates Base</th>\n",
       "      <th>2010</th>\n",
       "      <th>2011</th>\n",
       "      <th>2012</th>\n",
       "      <th>2013</th>\n",
       "      <th>2014</th>\n",
       "      <th>2015</th>\n",
       "      <th>2016</th>\n",
       "      <th>2017</th>\n",
       "      <th>2018</th>\n",
       "      <th>2019</th>\n",
       "    </tr>\n",
       "  </thead>\n",
       "  <tbody>\n",
       "    <tr>\n",
       "      <th>0</th>\n",
       "      <td>.Anderson County, Tennessee</td>\n",
       "      <td>75,129</td>\n",
       "      <td>75,082</td>\n",
       "      <td>75,098</td>\n",
       "      <td>75,209</td>\n",
       "      <td>75,225</td>\n",
       "      <td>75,299</td>\n",
       "      <td>75,157</td>\n",
       "      <td>75,456</td>\n",
       "      <td>75,528</td>\n",
       "      <td>76,056</td>\n",
       "      <td>76,287</td>\n",
       "      <td>76,978</td>\n",
       "    </tr>\n",
       "    <tr>\n",
       "      <th>1</th>\n",
       "      <td>.Bedford County, Tennessee</td>\n",
       "      <td>45,058</td>\n",
       "      <td>45,057</td>\n",
       "      <td>45,078</td>\n",
       "      <td>45,247</td>\n",
       "      <td>45,254</td>\n",
       "      <td>45,565</td>\n",
       "      <td>46,251</td>\n",
       "      <td>46,948</td>\n",
       "      <td>47,442</td>\n",
       "      <td>48,211</td>\n",
       "      <td>49,146</td>\n",
       "      <td>49,713</td>\n",
       "    </tr>\n",
       "    <tr>\n",
       "      <th>2</th>\n",
       "      <td>.Benton County, Tennessee</td>\n",
       "      <td>16,489</td>\n",
       "      <td>16,491</td>\n",
       "      <td>16,511</td>\n",
       "      <td>16,529</td>\n",
       "      <td>16,445</td>\n",
       "      <td>16,360</td>\n",
       "      <td>16,197</td>\n",
       "      <td>16,220</td>\n",
       "      <td>16,082</td>\n",
       "      <td>15,993</td>\n",
       "      <td>16,246</td>\n",
       "      <td>16,160</td>\n",
       "    </tr>\n",
       "    <tr>\n",
       "      <th>3</th>\n",
       "      <td>.Bledsoe County, Tennessee</td>\n",
       "      <td>12,876</td>\n",
       "      <td>12,874</td>\n",
       "      <td>12,884</td>\n",
       "      <td>12,992</td>\n",
       "      <td>12,926</td>\n",
       "      <td>13,910</td>\n",
       "      <td>14,501</td>\n",
       "      <td>14,601</td>\n",
       "      <td>14,738</td>\n",
       "      <td>14,895</td>\n",
       "      <td>14,883</td>\n",
       "      <td>15,064</td>\n",
       "    </tr>\n",
       "    <tr>\n",
       "      <th>4</th>\n",
       "      <td>.Blount County, Tennessee</td>\n",
       "      <td>123,010</td>\n",
       "      <td>123,098</td>\n",
       "      <td>123,199</td>\n",
       "      <td>123,664</td>\n",
       "      <td>124,024</td>\n",
       "      <td>124,874</td>\n",
       "      <td>125,847</td>\n",
       "      <td>126,954</td>\n",
       "      <td>128,264</td>\n",
       "      <td>129,999</td>\n",
       "      <td>131,331</td>\n",
       "      <td>133,088</td>\n",
       "    </tr>\n",
       "  </tbody>\n",
       "</table>\n",
       "</div>"
      ],
      "text/plain": [
       "                      Counties   Census Estimates Base     2010     2011  \\\n",
       "0  .Anderson County, Tennessee   75,129         75,082   75,098   75,209   \n",
       "1   .Bedford County, Tennessee   45,058         45,057   45,078   45,247   \n",
       "2    .Benton County, Tennessee   16,489         16,491   16,511   16,529   \n",
       "3   .Bledsoe County, Tennessee   12,876         12,874   12,884   12,992   \n",
       "4    .Blount County, Tennessee  123,010        123,098  123,199  123,664   \n",
       "\n",
       "      2012     2013     2014     2015     2016     2017     2018     2019  \n",
       "0   75,225   75,299   75,157   75,456   75,528   76,056   76,287   76,978  \n",
       "1   45,254   45,565   46,251   46,948   47,442   48,211   49,146   49,713  \n",
       "2   16,445   16,360   16,197   16,220   16,082   15,993   16,246   16,160  \n",
       "3   12,926   13,910   14,501   14,601   14,738   14,895   14,883   15,064  \n",
       "4  124,024  124,874  125,847  126,954  128,264  129,999  131,331  133,088  "
      ]
     },
     "execution_count": 360,
     "metadata": {},
     "output_type": "execute_result"
    }
   ],
   "source": [
    "population.head()"
   ]
  },
  {
   "cell_type": "code",
   "execution_count": 361,
   "metadata": {},
   "outputs": [
    {
     "name": "stdout",
     "output_type": "stream",
     "text": [
      "<class 'geopandas.geodataframe.GeoDataFrame'>\n",
      "RangeIndex: 95 entries, 0 to 94\n",
      "Data columns (total 6 columns):\n",
      " #   Column      Non-Null Count  Dtype   \n",
      "---  ------      --------------  -----   \n",
      " 0   OBJECTID    95 non-null     int64   \n",
      " 1   NAME        95 non-null     object  \n",
      " 2   KEY         95 non-null     object  \n",
      " 3   SHAPE_AREA  95 non-null     float64 \n",
      " 4   SHAPE_LEN   95 non-null     float64 \n",
      " 5   geometry    95 non-null     geometry\n",
      "dtypes: float64(2), geometry(1), int64(1), object(2)\n",
      "memory usage: 4.6+ KB\n"
     ]
    }
   ],
   "source": [
    "counties.info()"
   ]
  },
  {
   "cell_type": "code",
   "execution_count": 362,
   "metadata": {},
   "outputs": [
    {
     "name": "stdout",
     "output_type": "stream",
     "text": [
      "<class 'pandas.core.frame.DataFrame'>\n",
      "RangeIndex: 376813 entries, 0 to 376812\n",
      "Data columns (total 9 columns):\n",
      " #   Column      Non-Null Count   Dtype  \n",
      "---  ------      --------------   -----  \n",
      " 0   STATION_ID  376813 non-null  object \n",
      " 1   STN_NUMBER  376813 non-null  object \n",
      " 2   COUNTY      376813 non-null  object \n",
      " 3   LOCATION    376813 non-null  object \n",
      " 4   YEAR        376813 non-null  object \n",
      " 5   ADJAVGDLY   376813 non-null  float64\n",
      " 6   RTE_NUMBER  376813 non-null  object \n",
      " 7   X           376813 non-null  float64\n",
      " 8   Y           376813 non-null  float64\n",
      "dtypes: float64(3), object(6)\n",
      "memory usage: 25.9+ MB\n"
     ]
    }
   ],
   "source": [
    "traffic_data.info()"
   ]
  },
  {
   "cell_type": "code",
   "execution_count": 363,
   "metadata": {},
   "outputs": [
    {
     "name": "stdout",
     "output_type": "stream",
     "text": [
      "<class 'pandas.core.frame.DataFrame'>\n",
      "RangeIndex: 1145 entries, 0 to 1144\n",
      "Data columns (total 25 columns):\n",
      " #   Column         Non-Null Count  Dtype  \n",
      "---  ------         --------------  -----  \n",
      " 0   OBJECTID       1145 non-null   int64  \n",
      " 1   om             1145 non-null   int64  \n",
      " 2   yr             1145 non-null   int64  \n",
      " 3   mo             1145 non-null   int64  \n",
      " 4   dy             1145 non-null   int64  \n",
      " 5   date           1145 non-null   object \n",
      " 6   time           1145 non-null   object \n",
      " 7   tz             1145 non-null   int64  \n",
      " 8   st             1145 non-null   object \n",
      " 9   stf            1145 non-null   int64  \n",
      " 10  stn            1145 non-null   int64  \n",
      " 11  mag            1145 non-null   int64  \n",
      " 12  inj            1145 non-null   int64  \n",
      " 13  fat            1145 non-null   int64  \n",
      " 14  loss           612 non-null    float64\n",
      " 15  closs          1145 non-null   float64\n",
      " 16  slat           1145 non-null   float64\n",
      " 17  slon           1145 non-null   float64\n",
      " 18  elat           1145 non-null   float64\n",
      " 19  elon           1145 non-null   float64\n",
      " 20  len            1145 non-null   float64\n",
      " 21  wid            1145 non-null   int64  \n",
      " 22  fc             1145 non-null   int64  \n",
      " 23  Pre_1996_Loss  1145 non-null   object \n",
      " 24  SHAPE_Length   1145 non-null   float64\n",
      "dtypes: float64(8), int64(13), object(4)\n",
      "memory usage: 223.8+ KB\n"
     ]
    }
   ],
   "source": [
    "tornado_tracks.info()"
   ]
  },
  {
   "cell_type": "code",
   "execution_count": 364,
   "metadata": {},
   "outputs": [
    {
     "data": {
      "text/html": [
       "<div>\n",
       "<style scoped>\n",
       "    .dataframe tbody tr th:only-of-type {\n",
       "        vertical-align: middle;\n",
       "    }\n",
       "\n",
       "    .dataframe tbody tr th {\n",
       "        vertical-align: top;\n",
       "    }\n",
       "\n",
       "    .dataframe thead th {\n",
       "        text-align: right;\n",
       "    }\n",
       "</style>\n",
       "<table border=\"1\" class=\"dataframe\">\n",
       "  <thead>\n",
       "    <tr style=\"text-align: right;\">\n",
       "      <th></th>\n",
       "      <th>STATION_ID</th>\n",
       "      <th>STN_NUMBER</th>\n",
       "      <th>COUNTY</th>\n",
       "      <th>LOCATION</th>\n",
       "      <th>YEAR</th>\n",
       "      <th>ADJAVGDLY</th>\n",
       "      <th>RTE_NUMBER</th>\n",
       "      <th>X</th>\n",
       "      <th>Y</th>\n",
       "    </tr>\n",
       "  </thead>\n",
       "  <tbody>\n",
       "    <tr>\n",
       "      <th>0</th>\n",
       "      <td>001000005</td>\n",
       "      <td>000005</td>\n",
       "      <td>Anderson</td>\n",
       "      <td>NEAR SCOTT  CO LINE</td>\n",
       "      <td>2018</td>\n",
       "      <td>268.0</td>\n",
       "      <td>SR116</td>\n",
       "      <td>-84.416817</td>\n",
       "      <td>36.126099</td>\n",
       "    </tr>\n",
       "    <tr>\n",
       "      <th>1</th>\n",
       "      <td>001000005</td>\n",
       "      <td>000005</td>\n",
       "      <td>Anderson</td>\n",
       "      <td>NEAR SCOTT  CO LINE</td>\n",
       "      <td>2017</td>\n",
       "      <td>181.0</td>\n",
       "      <td>SR116</td>\n",
       "      <td>-84.416817</td>\n",
       "      <td>36.126099</td>\n",
       "    </tr>\n",
       "    <tr>\n",
       "      <th>2</th>\n",
       "      <td>001000005</td>\n",
       "      <td>000005</td>\n",
       "      <td>Anderson</td>\n",
       "      <td>NEAR SCOTT  CO LINE</td>\n",
       "      <td>2016</td>\n",
       "      <td>315.0</td>\n",
       "      <td>SR116</td>\n",
       "      <td>-84.416817</td>\n",
       "      <td>36.126099</td>\n",
       "    </tr>\n",
       "    <tr>\n",
       "      <th>3</th>\n",
       "      <td>001000005</td>\n",
       "      <td>000005</td>\n",
       "      <td>Anderson</td>\n",
       "      <td>NEAR SCOTT  CO LINE</td>\n",
       "      <td>2015</td>\n",
       "      <td>309.0</td>\n",
       "      <td>SR116</td>\n",
       "      <td>-84.416817</td>\n",
       "      <td>36.126099</td>\n",
       "    </tr>\n",
       "    <tr>\n",
       "      <th>4</th>\n",
       "      <td>001000005</td>\n",
       "      <td>000005</td>\n",
       "      <td>Anderson</td>\n",
       "      <td>NEAR SCOTT  CO LINE</td>\n",
       "      <td>2014</td>\n",
       "      <td>255.0</td>\n",
       "      <td>SR116</td>\n",
       "      <td>-84.416817</td>\n",
       "      <td>36.126099</td>\n",
       "    </tr>\n",
       "  </tbody>\n",
       "</table>\n",
       "</div>"
      ],
      "text/plain": [
       "  STATION_ID STN_NUMBER    COUNTY             LOCATION  YEAR  ADJAVGDLY  \\\n",
       "0  001000005     000005  Anderson  NEAR SCOTT  CO LINE  2018      268.0   \n",
       "1  001000005     000005  Anderson  NEAR SCOTT  CO LINE  2017      181.0   \n",
       "2  001000005     000005  Anderson  NEAR SCOTT  CO LINE  2016      315.0   \n",
       "3  001000005     000005  Anderson  NEAR SCOTT  CO LINE  2015      309.0   \n",
       "4  001000005     000005  Anderson  NEAR SCOTT  CO LINE  2014      255.0   \n",
       "\n",
       "  RTE_NUMBER          X          Y  \n",
       "0      SR116 -84.416817  36.126099  \n",
       "1      SR116 -84.416817  36.126099  \n",
       "2      SR116 -84.416817  36.126099  \n",
       "3      SR116 -84.416817  36.126099  \n",
       "4      SR116 -84.416817  36.126099  "
      ]
     },
     "execution_count": 364,
     "metadata": {},
     "output_type": "execute_result"
    }
   ],
   "source": [
    "traffic_data.head()"
   ]
  },
  {
   "cell_type": "code",
   "execution_count": 365,
   "metadata": {},
   "outputs": [],
   "source": [
    "indexNames = traffic_data[(traffic_data['X'] == 0)].index\n",
    "traffic_data.drop(indexNames, inplace=True)"
   ]
  },
  {
   "cell_type": "code",
   "execution_count": 366,
   "metadata": {},
   "outputs": [
    {
     "data": {
      "text/html": [
       "<div>\n",
       "<style scoped>\n",
       "    .dataframe tbody tr th:only-of-type {\n",
       "        vertical-align: middle;\n",
       "    }\n",
       "\n",
       "    .dataframe tbody tr th {\n",
       "        vertical-align: top;\n",
       "    }\n",
       "\n",
       "    .dataframe thead th {\n",
       "        text-align: right;\n",
       "    }\n",
       "</style>\n",
       "<table border=\"1\" class=\"dataframe\">\n",
       "  <thead>\n",
       "    <tr style=\"text-align: right;\">\n",
       "      <th></th>\n",
       "      <th>OBJECTID</th>\n",
       "      <th>om</th>\n",
       "      <th>yr</th>\n",
       "      <th>mo</th>\n",
       "      <th>dy</th>\n",
       "      <th>date</th>\n",
       "      <th>time</th>\n",
       "      <th>tz</th>\n",
       "      <th>st</th>\n",
       "      <th>stf</th>\n",
       "      <th>...</th>\n",
       "      <th>closs</th>\n",
       "      <th>slat</th>\n",
       "      <th>slon</th>\n",
       "      <th>elat</th>\n",
       "      <th>elon</th>\n",
       "      <th>len</th>\n",
       "      <th>wid</th>\n",
       "      <th>fc</th>\n",
       "      <th>Pre_1996_Loss</th>\n",
       "      <th>SHAPE_Length</th>\n",
       "    </tr>\n",
       "  </thead>\n",
       "  <tbody>\n",
       "    <tr>\n",
       "      <th>0</th>\n",
       "      <td>25</td>\n",
       "      <td>25</td>\n",
       "      <td>1950</td>\n",
       "      <td>2</td>\n",
       "      <td>13</td>\n",
       "      <td>1950-02-13</td>\n",
       "      <td>01:00:00</td>\n",
       "      <td>3</td>\n",
       "      <td>TN</td>\n",
       "      <td>47</td>\n",
       "      <td>...</td>\n",
       "      <td>0.0</td>\n",
       "      <td>35.35</td>\n",
       "      <td>-89.77</td>\n",
       "      <td>0.0</td>\n",
       "      <td>0.0</td>\n",
       "      <td>0.2</td>\n",
       "      <td>10</td>\n",
       "      <td>0</td>\n",
       "      <td>3</td>\n",
       "      <td>17.411841</td>\n",
       "    </tr>\n",
       "    <tr>\n",
       "      <th>1</th>\n",
       "      <td>26</td>\n",
       "      <td>26</td>\n",
       "      <td>1950</td>\n",
       "      <td>2</td>\n",
       "      <td>13</td>\n",
       "      <td>1950-02-13</td>\n",
       "      <td>02:00:00</td>\n",
       "      <td>3</td>\n",
       "      <td>TN</td>\n",
       "      <td>47</td>\n",
       "      <td>...</td>\n",
       "      <td>0.0</td>\n",
       "      <td>35.75</td>\n",
       "      <td>-89.48</td>\n",
       "      <td>0.0</td>\n",
       "      <td>0.0</td>\n",
       "      <td>0.2</td>\n",
       "      <td>10</td>\n",
       "      <td>0</td>\n",
       "      <td>4</td>\n",
       "      <td>17.505247</td>\n",
       "    </tr>\n",
       "    <tr>\n",
       "      <th>2</th>\n",
       "      <td>47</td>\n",
       "      <td>47</td>\n",
       "      <td>1950</td>\n",
       "      <td>3</td>\n",
       "      <td>27</td>\n",
       "      <td>1950-03-27</td>\n",
       "      <td>15:00:00</td>\n",
       "      <td>3</td>\n",
       "      <td>TN</td>\n",
       "      <td>47</td>\n",
       "      <td>...</td>\n",
       "      <td>0.0</td>\n",
       "      <td>35.68</td>\n",
       "      <td>-85.77</td>\n",
       "      <td>0.0</td>\n",
       "      <td>0.0</td>\n",
       "      <td>0.2</td>\n",
       "      <td>10</td>\n",
       "      <td>0</td>\n",
       "      <td>3</td>\n",
       "      <td>17.485824</td>\n",
       "    </tr>\n",
       "    <tr>\n",
       "      <th>3</th>\n",
       "      <td>447</td>\n",
       "      <td>246</td>\n",
       "      <td>1951</td>\n",
       "      <td>11</td>\n",
       "      <td>14</td>\n",
       "      <td>1951-11-14</td>\n",
       "      <td>22:00:00</td>\n",
       "      <td>3</td>\n",
       "      <td>TN</td>\n",
       "      <td>47</td>\n",
       "      <td>...</td>\n",
       "      <td>0.0</td>\n",
       "      <td>35.22</td>\n",
       "      <td>-87.03</td>\n",
       "      <td>0.0</td>\n",
       "      <td>0.0</td>\n",
       "      <td>0.2</td>\n",
       "      <td>10</td>\n",
       "      <td>0</td>\n",
       "      <td>4</td>\n",
       "      <td>17.379473</td>\n",
       "    </tr>\n",
       "    <tr>\n",
       "      <th>4</th>\n",
       "      <td>477</td>\n",
       "      <td>16</td>\n",
       "      <td>1952</td>\n",
       "      <td>2</td>\n",
       "      <td>13</td>\n",
       "      <td>1952-02-13</td>\n",
       "      <td>17:00:00</td>\n",
       "      <td>3</td>\n",
       "      <td>TN</td>\n",
       "      <td>47</td>\n",
       "      <td>...</td>\n",
       "      <td>0.0</td>\n",
       "      <td>36.00</td>\n",
       "      <td>-88.12</td>\n",
       "      <td>0.0</td>\n",
       "      <td>0.0</td>\n",
       "      <td>0.3</td>\n",
       "      <td>300</td>\n",
       "      <td>0</td>\n",
       "      <td>4</td>\n",
       "      <td>17.563339</td>\n",
       "    </tr>\n",
       "  </tbody>\n",
       "</table>\n",
       "<p>5 rows × 25 columns</p>\n",
       "</div>"
      ],
      "text/plain": [
       "   OBJECTID   om    yr  mo  dy        date      time  tz  st  stf  ...  closs  \\\n",
       "0        25   25  1950   2  13  1950-02-13  01:00:00   3  TN   47  ...    0.0   \n",
       "1        26   26  1950   2  13  1950-02-13  02:00:00   3  TN   47  ...    0.0   \n",
       "2        47   47  1950   3  27  1950-03-27  15:00:00   3  TN   47  ...    0.0   \n",
       "3       447  246  1951  11  14  1951-11-14  22:00:00   3  TN   47  ...    0.0   \n",
       "4       477   16  1952   2  13  1952-02-13  17:00:00   3  TN   47  ...    0.0   \n",
       "\n",
       "    slat   slon  elat  elon  len  wid  fc  Pre_1996_Loss  SHAPE_Length  \n",
       "0  35.35 -89.77   0.0   0.0  0.2   10   0              3     17.411841  \n",
       "1  35.75 -89.48   0.0   0.0  0.2   10   0              4     17.505247  \n",
       "2  35.68 -85.77   0.0   0.0  0.2   10   0              3     17.485824  \n",
       "3  35.22 -87.03   0.0   0.0  0.2   10   0              4     17.379473  \n",
       "4  36.00 -88.12   0.0   0.0  0.3  300   0              4     17.563339  \n",
       "\n",
       "[5 rows x 25 columns]"
      ]
     },
     "execution_count": 366,
     "metadata": {},
     "output_type": "execute_result"
    }
   ],
   "source": [
    "tornado_tracks.head()"
   ]
  },
  {
   "cell_type": "code",
   "execution_count": 396,
   "metadata": {},
   "outputs": [
    {
     "data": {
      "text/html": [
       "<div>\n",
       "<style scoped>\n",
       "    .dataframe tbody tr th:only-of-type {\n",
       "        vertical-align: middle;\n",
       "    }\n",
       "\n",
       "    .dataframe tbody tr th {\n",
       "        vertical-align: top;\n",
       "    }\n",
       "\n",
       "    .dataframe thead th {\n",
       "        text-align: right;\n",
       "    }\n",
       "</style>\n",
       "<table border=\"1\" class=\"dataframe\">\n",
       "  <thead>\n",
       "    <tr style=\"text-align: right;\">\n",
       "      <th></th>\n",
       "      <th>OBJECTID</th>\n",
       "      <th>om</th>\n",
       "      <th>yr</th>\n",
       "      <th>mo</th>\n",
       "      <th>dy</th>\n",
       "      <th>date</th>\n",
       "      <th>time</th>\n",
       "      <th>tz</th>\n",
       "      <th>st</th>\n",
       "      <th>stf</th>\n",
       "      <th>...</th>\n",
       "      <th>closs</th>\n",
       "      <th>slat</th>\n",
       "      <th>slon</th>\n",
       "      <th>elat</th>\n",
       "      <th>elon</th>\n",
       "      <th>len</th>\n",
       "      <th>wid</th>\n",
       "      <th>fc</th>\n",
       "      <th>Pre_1996_Loss</th>\n",
       "      <th>SHAPE_Length</th>\n",
       "    </tr>\n",
       "  </thead>\n",
       "  <tbody>\n",
       "    <tr>\n",
       "      <th>1140</th>\n",
       "      <td>60064</td>\n",
       "      <td>612000</td>\n",
       "      <td>2015</td>\n",
       "      <td>12</td>\n",
       "      <td>23</td>\n",
       "      <td>2015-12-23</td>\n",
       "      <td>16:43:00</td>\n",
       "      <td>3</td>\n",
       "      <td>TN</td>\n",
       "      <td>47</td>\n",
       "      <td>...</td>\n",
       "      <td>0.00</td>\n",
       "      <td>35.55</td>\n",
       "      <td>-89.07</td>\n",
       "      <td>35.56</td>\n",
       "      <td>-89.05</td>\n",
       "      <td>1.21</td>\n",
       "      <td>50</td>\n",
       "      <td>0</td>\n",
       "      <td>Post-1995</td>\n",
       "      <td>2392.561709</td>\n",
       "    </tr>\n",
       "    <tr>\n",
       "      <th>1141</th>\n",
       "      <td>60068</td>\n",
       "      <td>607144</td>\n",
       "      <td>2015</td>\n",
       "      <td>12</td>\n",
       "      <td>23</td>\n",
       "      <td>2015-12-23</td>\n",
       "      <td>18:18:00</td>\n",
       "      <td>3</td>\n",
       "      <td>TN</td>\n",
       "      <td>47</td>\n",
       "      <td>...</td>\n",
       "      <td>1.00</td>\n",
       "      <td>35.55</td>\n",
       "      <td>-87.81</td>\n",
       "      <td>35.66</td>\n",
       "      <td>-87.58</td>\n",
       "      <td>14.92</td>\n",
       "      <td>500</td>\n",
       "      <td>0</td>\n",
       "      <td>Post-1995</td>\n",
       "      <td>29564.231728</td>\n",
       "    </tr>\n",
       "    <tr>\n",
       "      <th>1142</th>\n",
       "      <td>60069</td>\n",
       "      <td>607146</td>\n",
       "      <td>2015</td>\n",
       "      <td>12</td>\n",
       "      <td>23</td>\n",
       "      <td>2015-12-23</td>\n",
       "      <td>18:55:00</td>\n",
       "      <td>3</td>\n",
       "      <td>TN</td>\n",
       "      <td>47</td>\n",
       "      <td>...</td>\n",
       "      <td>1.11</td>\n",
       "      <td>35.14</td>\n",
       "      <td>-87.97</td>\n",
       "      <td>35.51</td>\n",
       "      <td>-87.24</td>\n",
       "      <td>48.38</td>\n",
       "      <td>800</td>\n",
       "      <td>0</td>\n",
       "      <td>Post-1995</td>\n",
       "      <td>95455.493992</td>\n",
       "    </tr>\n",
       "    <tr>\n",
       "      <th>1143</th>\n",
       "      <td>60072</td>\n",
       "      <td>607154</td>\n",
       "      <td>2015</td>\n",
       "      <td>12</td>\n",
       "      <td>23</td>\n",
       "      <td>2015-12-23</td>\n",
       "      <td>22:14:00</td>\n",
       "      <td>3</td>\n",
       "      <td>TN</td>\n",
       "      <td>47</td>\n",
       "      <td>...</td>\n",
       "      <td>0.00</td>\n",
       "      <td>36.06</td>\n",
       "      <td>-85.97</td>\n",
       "      <td>36.12</td>\n",
       "      <td>-85.84</td>\n",
       "      <td>8.37</td>\n",
       "      <td>250</td>\n",
       "      <td>0</td>\n",
       "      <td>Post-1995</td>\n",
       "      <td>16673.761698</td>\n",
       "    </tr>\n",
       "    <tr>\n",
       "      <th>1144</th>\n",
       "      <td>60079</td>\n",
       "      <td>607163</td>\n",
       "      <td>2015</td>\n",
       "      <td>12</td>\n",
       "      <td>25</td>\n",
       "      <td>2015-12-25</td>\n",
       "      <td>07:18:00</td>\n",
       "      <td>3</td>\n",
       "      <td>TN</td>\n",
       "      <td>47</td>\n",
       "      <td>...</td>\n",
       "      <td>0.00</td>\n",
       "      <td>35.49</td>\n",
       "      <td>-86.41</td>\n",
       "      <td>35.49</td>\n",
       "      <td>-86.40</td>\n",
       "      <td>0.48</td>\n",
       "      <td>75</td>\n",
       "      <td>0</td>\n",
       "      <td>Post-1995</td>\n",
       "      <td>949.793959</td>\n",
       "    </tr>\n",
       "  </tbody>\n",
       "</table>\n",
       "<p>5 rows × 25 columns</p>\n",
       "</div>"
      ],
      "text/plain": [
       "      OBJECTID      om    yr  mo  dy        date      time  tz  st  stf  ...  \\\n",
       "1140     60064  612000  2015  12  23  2015-12-23  16:43:00   3  TN   47  ...   \n",
       "1141     60068  607144  2015  12  23  2015-12-23  18:18:00   3  TN   47  ...   \n",
       "1142     60069  607146  2015  12  23  2015-12-23  18:55:00   3  TN   47  ...   \n",
       "1143     60072  607154  2015  12  23  2015-12-23  22:14:00   3  TN   47  ...   \n",
       "1144     60079  607163  2015  12  25  2015-12-25  07:18:00   3  TN   47  ...   \n",
       "\n",
       "      closs   slat   slon   elat   elon    len  wid  fc  Pre_1996_Loss  \\\n",
       "1140   0.00  35.55 -89.07  35.56 -89.05   1.21   50   0      Post-1995   \n",
       "1141   1.00  35.55 -87.81  35.66 -87.58  14.92  500   0      Post-1995   \n",
       "1142   1.11  35.14 -87.97  35.51 -87.24  48.38  800   0      Post-1995   \n",
       "1143   0.00  36.06 -85.97  36.12 -85.84   8.37  250   0      Post-1995   \n",
       "1144   0.00  35.49 -86.41  35.49 -86.40   0.48   75   0      Post-1995   \n",
       "\n",
       "      SHAPE_Length  \n",
       "1140   2392.561709  \n",
       "1141  29564.231728  \n",
       "1142  95455.493992  \n",
       "1143  16673.761698  \n",
       "1144    949.793959  \n",
       "\n",
       "[5 rows x 25 columns]"
      ]
     },
     "execution_count": 396,
     "metadata": {},
     "output_type": "execute_result"
    }
   ],
   "source": [
    "tornado_tracks.tail()"
   ]
  },
  {
   "cell_type": "code",
   "execution_count": 393,
   "metadata": {},
   "outputs": [
    {
     "data": {
      "text/plain": [
       "Index(['OBJECTID', 'om', 'yr', 'mo', 'dy', 'date', 'time', 'tz', 'st', 'stf',\n",
       "       'stn', 'mag', 'inj', 'fat', 'loss', 'closs', 'slat', 'slon', 'elat',\n",
       "       'elon', 'len', 'wid', 'fc', 'Pre_1996_Loss', 'SHAPE_Length'],\n",
       "      dtype='object')"
      ]
     },
     "execution_count": 393,
     "metadata": {},
     "output_type": "execute_result"
    }
   ],
   "source": [
    "tornado_tracks.columns"
   ]
  },
  {
   "cell_type": "code",
   "execution_count": 395,
   "metadata": {},
   "outputs": [
    {
     "data": {
      "text/plain": [
       "0.00     328\n",
       "36.40     19\n",
       "36.03     14\n",
       "35.53     14\n",
       "35.97     13\n",
       "        ... \n",
       "35.56      1\n",
       "35.94      1\n",
       "36.44      1\n",
       "35.46      1\n",
       "36.29      1\n",
       "Name: elat, Length: 163, dtype: int64"
      ]
     },
     "execution_count": 395,
     "metadata": {},
     "output_type": "execute_result"
    }
   ],
   "source": [
    "tornado_tracks['elat'].value_counts()"
   ]
  },
  {
   "cell_type": "code",
   "execution_count": 367,
   "metadata": {},
   "outputs": [
    {
     "data": {
      "text/html": [
       "<div>\n",
       "<style scoped>\n",
       "    .dataframe tbody tr th:only-of-type {\n",
       "        vertical-align: middle;\n",
       "    }\n",
       "\n",
       "    .dataframe tbody tr th {\n",
       "        vertical-align: top;\n",
       "    }\n",
       "\n",
       "    .dataframe thead th {\n",
       "        text-align: right;\n",
       "    }\n",
       "</style>\n",
       "<table border=\"1\" class=\"dataframe\">\n",
       "  <thead>\n",
       "    <tr style=\"text-align: right;\">\n",
       "      <th></th>\n",
       "      <th>OBJECTID</th>\n",
       "      <th>NAME</th>\n",
       "      <th>KEY</th>\n",
       "      <th>SHAPE_AREA</th>\n",
       "      <th>SHAPE_LEN</th>\n",
       "      <th>geometry</th>\n",
       "    </tr>\n",
       "  </thead>\n",
       "  <tbody>\n",
       "    <tr>\n",
       "      <th>0</th>\n",
       "      <td>76</td>\n",
       "      <td>Chester</td>\n",
       "      <td>47023</td>\n",
       "      <td>8.049024e+09</td>\n",
       "      <td>520461.080124</td>\n",
       "      <td>POLYGON ((1137985.762 344601.643, 1137965.070 ...</td>\n",
       "    </tr>\n",
       "    <tr>\n",
       "      <th>1</th>\n",
       "      <td>77</td>\n",
       "      <td>Wayne</td>\n",
       "      <td>47181</td>\n",
       "      <td>2.050741e+10</td>\n",
       "      <td>666520.678598</td>\n",
       "      <td>POLYGON ((1365052.057 391716.806, 1365746.554 ...</td>\n",
       "    </tr>\n",
       "    <tr>\n",
       "      <th>2</th>\n",
       "      <td>78</td>\n",
       "      <td>Tipton</td>\n",
       "      <td>47167</td>\n",
       "      <td>1.319125e+10</td>\n",
       "      <td>865093.887634</td>\n",
       "      <td>MULTIPOLYGON (((886814.330 400456.525, 886774....</td>\n",
       "    </tr>\n",
       "    <tr>\n",
       "      <th>3</th>\n",
       "      <td>79</td>\n",
       "      <td>Hamilton</td>\n",
       "      <td>47065</td>\n",
       "      <td>1.604776e+10</td>\n",
       "      <td>652926.001078</td>\n",
       "      <td>POLYGON ((2274954.438 239788.911, 2274090.610 ...</td>\n",
       "    </tr>\n",
       "    <tr>\n",
       "      <th>4</th>\n",
       "      <td>80</td>\n",
       "      <td>Stewart</td>\n",
       "      <td>47161</td>\n",
       "      <td>1.375003e+10</td>\n",
       "      <td>490090.336180</td>\n",
       "      <td>POLYGON ((1382472.783 743972.302, 1382445.171 ...</td>\n",
       "    </tr>\n",
       "  </tbody>\n",
       "</table>\n",
       "</div>"
      ],
      "text/plain": [
       "   OBJECTID      NAME    KEY    SHAPE_AREA      SHAPE_LEN  \\\n",
       "0        76   Chester  47023  8.049024e+09  520461.080124   \n",
       "1        77     Wayne  47181  2.050741e+10  666520.678598   \n",
       "2        78    Tipton  47167  1.319125e+10  865093.887634   \n",
       "3        79  Hamilton  47065  1.604776e+10  652926.001078   \n",
       "4        80   Stewart  47161  1.375003e+10  490090.336180   \n",
       "\n",
       "                                            geometry  \n",
       "0  POLYGON ((1137985.762 344601.643, 1137965.070 ...  \n",
       "1  POLYGON ((1365052.057 391716.806, 1365746.554 ...  \n",
       "2  MULTIPOLYGON (((886814.330 400456.525, 886774....  \n",
       "3  POLYGON ((2274954.438 239788.911, 2274090.610 ...  \n",
       "4  POLYGON ((1382472.783 743972.302, 1382445.171 ...  "
      ]
     },
     "execution_count": 367,
     "metadata": {},
     "output_type": "execute_result"
    }
   ],
   "source": [
    "counties.head()"
   ]
  },
  {
   "cell_type": "markdown",
   "metadata": {},
   "source": [
    "### Creating a list of all counties"
   ]
  },
  {
   "cell_type": "code",
   "execution_count": 368,
   "metadata": {},
   "outputs": [],
   "source": [
    "county_list = ['Anderson', 'Bedford', 'Benton', 'Bledsoe', 'Blount', 'Bradley', 'Campbell', 'Cannon', 'Carroll', 'Carter', \n",
    "               'Cheatham', 'Chester', 'Claiborne', 'Clay', 'Cocke', 'Coffee', 'Crockett', 'Cumberland', 'Davidson', \n",
    "               'Decatur', 'DeKalb', 'Dickson', 'Dyer', 'Fayette', 'Fentress', 'Franklin', 'Gibson', 'Giles', 'Grainger', \n",
    "               'Greene', 'Grundy', 'Hamblen', 'Hamilton', 'Hancock',\n",
    "               'Hardeman', 'Hardin', 'Hawkins', 'Haywood', 'Henderson',\n",
    "               'Henry', 'Hickman', 'Houston', 'Humphreys', 'Jackson', 'Jefferson', 'Johnson', \n",
    "               'Knox', 'Lake', 'Lauderdale', \n",
    "               'Lawrence', 'Lewis', 'Lincoln', 'Loudon', 'McMinn', 'McNairy', 'Macon', \n",
    "               'Madison', 'Marion', 'Marshall', 'Maury', \n",
    "               'Meigs', 'Monroe', 'Montgomery', 'Moore', 'Morgan', \n",
    "               'Obion', 'Overton', 'Perry', 'Pickett', 'Polk', 'Putnam', 'Rhea', \n",
    "               'Roane', 'Robertson', 'Rutherford', 'Scott', \n",
    "               'Sequatchie', 'Sevier', 'Shelby', 'Smith', 'Stewart', 'Sullivan', 'Sumner', \n",
    "               'Tipton', 'Trousdale', 'Unicoi', 'Union', 'Van Buren', 'Warren', 'Washington', 'Wayne', \n",
    "               'Weakley', 'White', 'Williamson', 'Wilson']"
   ]
  },
  {
   "cell_type": "markdown",
   "metadata": {},
   "source": [
    "### Cleaning the Population Data"
   ]
  },
  {
   "cell_type": "code",
   "execution_count": 369,
   "metadata": {},
   "outputs": [],
   "source": [
    "#population['Counties'] = population['Counties'].map(lambda x: x.lstrip('.').rstrip(' ounty, Tennessee'))"
   ]
  },
  {
   "cell_type": "code",
   "execution_count": 370,
   "metadata": {},
   "outputs": [
    {
     "data": {
      "text/html": [
       "<div>\n",
       "<style scoped>\n",
       "    .dataframe tbody tr th:only-of-type {\n",
       "        vertical-align: middle;\n",
       "    }\n",
       "\n",
       "    .dataframe tbody tr th {\n",
       "        vertical-align: top;\n",
       "    }\n",
       "\n",
       "    .dataframe thead th {\n",
       "        text-align: right;\n",
       "    }\n",
       "</style>\n",
       "<table border=\"1\" class=\"dataframe\">\n",
       "  <thead>\n",
       "    <tr style=\"text-align: right;\">\n",
       "      <th></th>\n",
       "      <th>Counties</th>\n",
       "      <th>Census</th>\n",
       "      <th>Estimates Base</th>\n",
       "      <th>2010</th>\n",
       "      <th>2011</th>\n",
       "      <th>2012</th>\n",
       "      <th>2013</th>\n",
       "      <th>2014</th>\n",
       "      <th>2015</th>\n",
       "      <th>2016</th>\n",
       "      <th>2017</th>\n",
       "      <th>2018</th>\n",
       "      <th>2019</th>\n",
       "    </tr>\n",
       "  </thead>\n",
       "  <tbody>\n",
       "    <tr>\n",
       "      <th>0</th>\n",
       "      <td>.Anderson County, Tennessee</td>\n",
       "      <td>75,129</td>\n",
       "      <td>75,082</td>\n",
       "      <td>75,098</td>\n",
       "      <td>75,209</td>\n",
       "      <td>75,225</td>\n",
       "      <td>75,299</td>\n",
       "      <td>75,157</td>\n",
       "      <td>75,456</td>\n",
       "      <td>75,528</td>\n",
       "      <td>76,056</td>\n",
       "      <td>76,287</td>\n",
       "      <td>76,978</td>\n",
       "    </tr>\n",
       "    <tr>\n",
       "      <th>1</th>\n",
       "      <td>.Bedford County, Tennessee</td>\n",
       "      <td>45,058</td>\n",
       "      <td>45,057</td>\n",
       "      <td>45,078</td>\n",
       "      <td>45,247</td>\n",
       "      <td>45,254</td>\n",
       "      <td>45,565</td>\n",
       "      <td>46,251</td>\n",
       "      <td>46,948</td>\n",
       "      <td>47,442</td>\n",
       "      <td>48,211</td>\n",
       "      <td>49,146</td>\n",
       "      <td>49,713</td>\n",
       "    </tr>\n",
       "    <tr>\n",
       "      <th>2</th>\n",
       "      <td>.Benton County, Tennessee</td>\n",
       "      <td>16,489</td>\n",
       "      <td>16,491</td>\n",
       "      <td>16,511</td>\n",
       "      <td>16,529</td>\n",
       "      <td>16,445</td>\n",
       "      <td>16,360</td>\n",
       "      <td>16,197</td>\n",
       "      <td>16,220</td>\n",
       "      <td>16,082</td>\n",
       "      <td>15,993</td>\n",
       "      <td>16,246</td>\n",
       "      <td>16,160</td>\n",
       "    </tr>\n",
       "    <tr>\n",
       "      <th>3</th>\n",
       "      <td>.Bledsoe County, Tennessee</td>\n",
       "      <td>12,876</td>\n",
       "      <td>12,874</td>\n",
       "      <td>12,884</td>\n",
       "      <td>12,992</td>\n",
       "      <td>12,926</td>\n",
       "      <td>13,910</td>\n",
       "      <td>14,501</td>\n",
       "      <td>14,601</td>\n",
       "      <td>14,738</td>\n",
       "      <td>14,895</td>\n",
       "      <td>14,883</td>\n",
       "      <td>15,064</td>\n",
       "    </tr>\n",
       "    <tr>\n",
       "      <th>4</th>\n",
       "      <td>.Blount County, Tennessee</td>\n",
       "      <td>123,010</td>\n",
       "      <td>123,098</td>\n",
       "      <td>123,199</td>\n",
       "      <td>123,664</td>\n",
       "      <td>124,024</td>\n",
       "      <td>124,874</td>\n",
       "      <td>125,847</td>\n",
       "      <td>126,954</td>\n",
       "      <td>128,264</td>\n",
       "      <td>129,999</td>\n",
       "      <td>131,331</td>\n",
       "      <td>133,088</td>\n",
       "    </tr>\n",
       "  </tbody>\n",
       "</table>\n",
       "</div>"
      ],
      "text/plain": [
       "                      Counties   Census Estimates Base     2010     2011  \\\n",
       "0  .Anderson County, Tennessee   75,129         75,082   75,098   75,209   \n",
       "1   .Bedford County, Tennessee   45,058         45,057   45,078   45,247   \n",
       "2    .Benton County, Tennessee   16,489         16,491   16,511   16,529   \n",
       "3   .Bledsoe County, Tennessee   12,876         12,874   12,884   12,992   \n",
       "4    .Blount County, Tennessee  123,010        123,098  123,199  123,664   \n",
       "\n",
       "      2012     2013     2014     2015     2016     2017     2018     2019  \n",
       "0   75,225   75,299   75,157   75,456   75,528   76,056   76,287   76,978  \n",
       "1   45,254   45,565   46,251   46,948   47,442   48,211   49,146   49,713  \n",
       "2   16,445   16,360   16,197   16,220   16,082   15,993   16,246   16,160  \n",
       "3   12,926   13,910   14,501   14,601   14,738   14,895   14,883   15,064  \n",
       "4  124,024  124,874  125,847  126,954  128,264  129,999  131,331  133,088  "
      ]
     },
     "execution_count": 370,
     "metadata": {},
     "output_type": "execute_result"
    }
   ],
   "source": [
    "population.head()"
   ]
  },
  {
   "cell_type": "code",
   "execution_count": 371,
   "metadata": {},
   "outputs": [],
   "source": [
    "population['county_list'] = county_list"
   ]
  },
  {
   "cell_type": "code",
   "execution_count": 372,
   "metadata": {},
   "outputs": [],
   "source": [
    "population = population.drop(['Estimates Base', 'Census', 'Counties', '2010', '2011', '2012', '2013', \n",
    "                              '2014', '2015', '2016', '2017', '2019'], axis = 1)"
   ]
  },
  {
   "cell_type": "code",
   "execution_count": 388,
   "metadata": {},
   "outputs": [],
   "source": [
    "population.rename(columns={'county_list': 'Counties'}, inplace=True)"
   ]
  },
  {
   "cell_type": "code",
   "execution_count": 389,
   "metadata": {},
   "outputs": [
    {
     "data": {
      "text/html": [
       "<div>\n",
       "<style scoped>\n",
       "    .dataframe tbody tr th:only-of-type {\n",
       "        vertical-align: middle;\n",
       "    }\n",
       "\n",
       "    .dataframe tbody tr th {\n",
       "        vertical-align: top;\n",
       "    }\n",
       "\n",
       "    .dataframe thead th {\n",
       "        text-align: right;\n",
       "    }\n",
       "</style>\n",
       "<table border=\"1\" class=\"dataframe\">\n",
       "  <thead>\n",
       "    <tr style=\"text-align: right;\">\n",
       "      <th></th>\n",
       "      <th>2018</th>\n",
       "      <th>Counties</th>\n",
       "    </tr>\n",
       "  </thead>\n",
       "  <tbody>\n",
       "    <tr>\n",
       "      <th>0</th>\n",
       "      <td>76,287</td>\n",
       "      <td>Anderson</td>\n",
       "    </tr>\n",
       "    <tr>\n",
       "      <th>1</th>\n",
       "      <td>49,146</td>\n",
       "      <td>Bedford</td>\n",
       "    </tr>\n",
       "    <tr>\n",
       "      <th>2</th>\n",
       "      <td>16,246</td>\n",
       "      <td>Benton</td>\n",
       "    </tr>\n",
       "    <tr>\n",
       "      <th>3</th>\n",
       "      <td>14,883</td>\n",
       "      <td>Bledsoe</td>\n",
       "    </tr>\n",
       "    <tr>\n",
       "      <th>4</th>\n",
       "      <td>131,331</td>\n",
       "      <td>Blount</td>\n",
       "    </tr>\n",
       "  </tbody>\n",
       "</table>\n",
       "</div>"
      ],
      "text/plain": [
       "      2018  Counties\n",
       "0   76,287  Anderson\n",
       "1   49,146   Bedford\n",
       "2   16,246    Benton\n",
       "3   14,883   Bledsoe\n",
       "4  131,331    Blount"
      ]
     },
     "execution_count": 389,
     "metadata": {},
     "output_type": "execute_result"
    }
   ],
   "source": [
    "population.head()"
   ]
  },
  {
   "cell_type": "code",
   "execution_count": null,
   "metadata": {},
   "outputs": [],
   "source": []
  },
  {
   "cell_type": "markdown",
   "metadata": {},
   "source": [
    "### Creating a Subset That Only Includes The Year 2018"
   ]
  },
  {
   "cell_type": "code",
   "execution_count": 374,
   "metadata": {},
   "outputs": [],
   "source": [
    "traffic_data_2018 = traffic_data[traffic_data['YEAR'] == '2018']"
   ]
  },
  {
   "cell_type": "markdown",
   "metadata": {},
   "source": [
    "### Cleaning the Traffic Data"
   ]
  },
  {
   "cell_type": "code",
   "execution_count": 375,
   "metadata": {},
   "outputs": [],
   "source": [
    "traffic_data_2018 = traffic_data_2018.drop(['STN_NUMBER', 'LOCATION', 'RTE_NUMBER'], axis = 1)"
   ]
  },
  {
   "cell_type": "code",
   "execution_count": 376,
   "metadata": {},
   "outputs": [],
   "source": [
    "traffic_data_2018 = traffic_data_2018.rename(columns = {'X':'LONG','Y':'LAT'})"
   ]
  },
  {
   "cell_type": "code",
   "execution_count": 377,
   "metadata": {},
   "outputs": [],
   "source": [
    "traffic_data_2018['ADJAVGDLY'] = traffic_data_2018['ADJAVGDLY'].astype('int64')"
   ]
  },
  {
   "cell_type": "code",
   "execution_count": 378,
   "metadata": {},
   "outputs": [
    {
     "name": "stdout",
     "output_type": "stream",
     "text": [
      "<class 'pandas.core.frame.DataFrame'>\n",
      "Int64Index: 12488 entries, 0 to 376779\n",
      "Data columns (total 6 columns):\n",
      " #   Column      Non-Null Count  Dtype  \n",
      "---  ------      --------------  -----  \n",
      " 0   STATION_ID  12488 non-null  object \n",
      " 1   COUNTY      12488 non-null  object \n",
      " 2   YEAR        12488 non-null  object \n",
      " 3   ADJAVGDLY   12488 non-null  int64  \n",
      " 4   LONG        12488 non-null  float64\n",
      " 5   LAT         12488 non-null  float64\n",
      "dtypes: float64(2), int64(1), object(3)\n",
      "memory usage: 682.9+ KB\n"
     ]
    }
   ],
   "source": [
    "traffic_data_2018.info()"
   ]
  },
  {
   "cell_type": "code",
   "execution_count": 379,
   "metadata": {},
   "outputs": [
    {
     "data": {
      "text/plain": [
       "count     12488.000000\n",
       "mean       7904.033953\n",
       "std       16625.621063\n",
       "min           2.000000\n",
       "25%         826.750000\n",
       "50%        2619.500000\n",
       "75%        7901.500000\n",
       "max      212693.000000\n",
       "Name: ADJAVGDLY, dtype: float64"
      ]
     },
     "execution_count": 379,
     "metadata": {},
     "output_type": "execute_result"
    }
   ],
   "source": [
    "traffic_data_2018['ADJAVGDLY'].describe()"
   ]
  },
  {
   "cell_type": "code",
   "execution_count": 380,
   "metadata": {},
   "outputs": [
    {
     "data": {
      "text/html": [
       "<div>\n",
       "<style scoped>\n",
       "    .dataframe tbody tr th:only-of-type {\n",
       "        vertical-align: middle;\n",
       "    }\n",
       "\n",
       "    .dataframe tbody tr th {\n",
       "        vertical-align: top;\n",
       "    }\n",
       "\n",
       "    .dataframe thead th {\n",
       "        text-align: right;\n",
       "    }\n",
       "</style>\n",
       "<table border=\"1\" class=\"dataframe\">\n",
       "  <thead>\n",
       "    <tr style=\"text-align: right;\">\n",
       "      <th></th>\n",
       "      <th>STATION_ID</th>\n",
       "      <th>COUNTY</th>\n",
       "      <th>YEAR</th>\n",
       "      <th>ADJAVGDLY</th>\n",
       "      <th>LONG</th>\n",
       "      <th>LAT</th>\n",
       "    </tr>\n",
       "  </thead>\n",
       "  <tbody>\n",
       "    <tr>\n",
       "      <th>0</th>\n",
       "      <td>001000005</td>\n",
       "      <td>Anderson</td>\n",
       "      <td>2018</td>\n",
       "      <td>268</td>\n",
       "      <td>-84.416817</td>\n",
       "      <td>36.126099</td>\n",
       "    </tr>\n",
       "    <tr>\n",
       "      <th>61</th>\n",
       "      <td>001000007</td>\n",
       "      <td>Anderson</td>\n",
       "      <td>2018</td>\n",
       "      <td>1765</td>\n",
       "      <td>-84.181373</td>\n",
       "      <td>36.191066</td>\n",
       "    </tr>\n",
       "    <tr>\n",
       "      <th>121</th>\n",
       "      <td>001000008</td>\n",
       "      <td>Anderson</td>\n",
       "      <td>2018</td>\n",
       "      <td>3240</td>\n",
       "      <td>-84.162139</td>\n",
       "      <td>36.218138</td>\n",
       "    </tr>\n",
       "    <tr>\n",
       "      <th>182</th>\n",
       "      <td>001000010</td>\n",
       "      <td>Anderson</td>\n",
       "      <td>2018</td>\n",
       "      <td>1936</td>\n",
       "      <td>-84.155918</td>\n",
       "      <td>36.228584</td>\n",
       "    </tr>\n",
       "    <tr>\n",
       "      <th>243</th>\n",
       "      <td>001000011</td>\n",
       "      <td>Anderson</td>\n",
       "      <td>2018</td>\n",
       "      <td>8956</td>\n",
       "      <td>-84.152704</td>\n",
       "      <td>36.214983</td>\n",
       "    </tr>\n",
       "  </tbody>\n",
       "</table>\n",
       "</div>"
      ],
      "text/plain": [
       "    STATION_ID    COUNTY  YEAR  ADJAVGDLY       LONG        LAT\n",
       "0    001000005  Anderson  2018        268 -84.416817  36.126099\n",
       "61   001000007  Anderson  2018       1765 -84.181373  36.191066\n",
       "121  001000008  Anderson  2018       3240 -84.162139  36.218138\n",
       "182  001000010  Anderson  2018       1936 -84.155918  36.228584\n",
       "243  001000011  Anderson  2018       8956 -84.152704  36.214983"
      ]
     },
     "execution_count": 380,
     "metadata": {},
     "output_type": "execute_result"
    }
   ],
   "source": [
    "traffic_data_2018.head()"
   ]
  },
  {
   "cell_type": "markdown",
   "metadata": {},
   "source": [
    "### Creating a GeoDataFrame for Traffic Data 2018"
   ]
  },
  {
   "cell_type": "code",
   "execution_count": 381,
   "metadata": {},
   "outputs": [],
   "source": [
    "geo_traffic_data = gpd.GeoDataFrame(\n",
    "    traffic_data_2018, crs = 'EPSG:4326', geometry=gpd.points_from_xy(traffic_data_2018.LONG, traffic_data_2018.LAT))"
   ]
  },
  {
   "cell_type": "code",
   "execution_count": 382,
   "metadata": {},
   "outputs": [
    {
     "data": {
      "text/plain": [
       "<Geographic 2D CRS: EPSG:4326>\n",
       "Name: WGS 84\n",
       "Axis Info [ellipsoidal]:\n",
       "- Lat[north]: Geodetic latitude (degree)\n",
       "- Lon[east]: Geodetic longitude (degree)\n",
       "Area of Use:\n",
       "- name: World\n",
       "- bounds: (-180.0, -90.0, 180.0, 90.0)\n",
       "Datum: World Geodetic System 1984\n",
       "- Ellipsoid: WGS 84\n",
       "- Prime Meridian: Greenwich"
      ]
     },
     "execution_count": 382,
     "metadata": {},
     "output_type": "execute_result"
    }
   ],
   "source": [
    "geo_traffic_data.crs"
   ]
  },
  {
   "cell_type": "code",
   "execution_count": 383,
   "metadata": {},
   "outputs": [
    {
     "name": "stdout",
     "output_type": "stream",
     "text": [
      "<class 'geopandas.geodataframe.GeoDataFrame'>\n",
      "Int64Index: 12488 entries, 0 to 376779\n",
      "Data columns (total 7 columns):\n",
      " #   Column      Non-Null Count  Dtype   \n",
      "---  ------      --------------  -----   \n",
      " 0   STATION_ID  12488 non-null  object  \n",
      " 1   COUNTY      12488 non-null  object  \n",
      " 2   YEAR        12488 non-null  object  \n",
      " 3   ADJAVGDLY   12488 non-null  int64   \n",
      " 4   LONG        12488 non-null  float64 \n",
      " 5   LAT         12488 non-null  float64 \n",
      " 6   geometry    12488 non-null  geometry\n",
      "dtypes: float64(2), geometry(1), int64(1), object(3)\n",
      "memory usage: 780.5+ KB\n"
     ]
    }
   ],
   "source": [
    "geo_traffic_data.info()"
   ]
  },
  {
   "cell_type": "code",
   "execution_count": 384,
   "metadata": {},
   "outputs": [
    {
     "data": {
      "text/html": [
       "<div>\n",
       "<style scoped>\n",
       "    .dataframe tbody tr th:only-of-type {\n",
       "        vertical-align: middle;\n",
       "    }\n",
       "\n",
       "    .dataframe tbody tr th {\n",
       "        vertical-align: top;\n",
       "    }\n",
       "\n",
       "    .dataframe thead th {\n",
       "        text-align: right;\n",
       "    }\n",
       "</style>\n",
       "<table border=\"1\" class=\"dataframe\">\n",
       "  <thead>\n",
       "    <tr style=\"text-align: right;\">\n",
       "      <th></th>\n",
       "      <th>STATION_ID</th>\n",
       "      <th>COUNTY</th>\n",
       "      <th>YEAR</th>\n",
       "      <th>ADJAVGDLY</th>\n",
       "      <th>LONG</th>\n",
       "      <th>LAT</th>\n",
       "      <th>geometry</th>\n",
       "    </tr>\n",
       "  </thead>\n",
       "  <tbody>\n",
       "    <tr>\n",
       "      <th>0</th>\n",
       "      <td>001000005</td>\n",
       "      <td>Anderson</td>\n",
       "      <td>2018</td>\n",
       "      <td>268</td>\n",
       "      <td>-84.416817</td>\n",
       "      <td>36.126099</td>\n",
       "      <td>POINT (-84.41682 36.12610)</td>\n",
       "    </tr>\n",
       "    <tr>\n",
       "      <th>61</th>\n",
       "      <td>001000007</td>\n",
       "      <td>Anderson</td>\n",
       "      <td>2018</td>\n",
       "      <td>1765</td>\n",
       "      <td>-84.181373</td>\n",
       "      <td>36.191066</td>\n",
       "      <td>POINT (-84.18137 36.19107)</td>\n",
       "    </tr>\n",
       "    <tr>\n",
       "      <th>121</th>\n",
       "      <td>001000008</td>\n",
       "      <td>Anderson</td>\n",
       "      <td>2018</td>\n",
       "      <td>3240</td>\n",
       "      <td>-84.162139</td>\n",
       "      <td>36.218138</td>\n",
       "      <td>POINT (-84.16214 36.21814)</td>\n",
       "    </tr>\n",
       "    <tr>\n",
       "      <th>182</th>\n",
       "      <td>001000010</td>\n",
       "      <td>Anderson</td>\n",
       "      <td>2018</td>\n",
       "      <td>1936</td>\n",
       "      <td>-84.155918</td>\n",
       "      <td>36.228584</td>\n",
       "      <td>POINT (-84.15592 36.22858)</td>\n",
       "    </tr>\n",
       "    <tr>\n",
       "      <th>243</th>\n",
       "      <td>001000011</td>\n",
       "      <td>Anderson</td>\n",
       "      <td>2018</td>\n",
       "      <td>8956</td>\n",
       "      <td>-84.152704</td>\n",
       "      <td>36.214983</td>\n",
       "      <td>POINT (-84.15270 36.21498)</td>\n",
       "    </tr>\n",
       "  </tbody>\n",
       "</table>\n",
       "</div>"
      ],
      "text/plain": [
       "    STATION_ID    COUNTY  YEAR  ADJAVGDLY       LONG        LAT  \\\n",
       "0    001000005  Anderson  2018        268 -84.416817  36.126099   \n",
       "61   001000007  Anderson  2018       1765 -84.181373  36.191066   \n",
       "121  001000008  Anderson  2018       3240 -84.162139  36.218138   \n",
       "182  001000010  Anderson  2018       1936 -84.155918  36.228584   \n",
       "243  001000011  Anderson  2018       8956 -84.152704  36.214983   \n",
       "\n",
       "                       geometry  \n",
       "0    POINT (-84.41682 36.12610)  \n",
       "61   POINT (-84.18137 36.19107)  \n",
       "121  POINT (-84.16214 36.21814)  \n",
       "182  POINT (-84.15592 36.22858)  \n",
       "243  POINT (-84.15270 36.21498)  "
      ]
     },
     "execution_count": 384,
     "metadata": {},
     "output_type": "execute_result"
    }
   ],
   "source": [
    "geo_traffic_data.head()"
   ]
  },
  {
   "cell_type": "markdown",
   "metadata": {},
   "source": [
    "### Normalizing the traffic data by population"
   ]
  },
  {
   "cell_type": "code",
   "execution_count": 392,
   "metadata": {},
   "outputs": [
    {
     "data": {
      "text/html": [
       "<div>\n",
       "<style scoped>\n",
       "    .dataframe tbody tr th:only-of-type {\n",
       "        vertical-align: middle;\n",
       "    }\n",
       "\n",
       "    .dataframe tbody tr th {\n",
       "        vertical-align: top;\n",
       "    }\n",
       "\n",
       "    .dataframe thead th {\n",
       "        text-align: right;\n",
       "    }\n",
       "</style>\n",
       "<table border=\"1\" class=\"dataframe\">\n",
       "  <thead>\n",
       "    <tr style=\"text-align: right;\">\n",
       "      <th></th>\n",
       "      <th>COUNTY</th>\n",
       "      <th>ADJAVGDLY</th>\n",
       "    </tr>\n",
       "  </thead>\n",
       "  <tbody>\n",
       "    <tr>\n",
       "      <th>0</th>\n",
       "      <td>Anderson</td>\n",
       "      <td>6151.110429</td>\n",
       "    </tr>\n",
       "    <tr>\n",
       "      <th>1</th>\n",
       "      <td>Bedford</td>\n",
       "      <td>4140.655462</td>\n",
       "    </tr>\n",
       "    <tr>\n",
       "      <th>2</th>\n",
       "      <td>Benton</td>\n",
       "      <td>2255.406593</td>\n",
       "    </tr>\n",
       "    <tr>\n",
       "      <th>3</th>\n",
       "      <td>Bledsoe</td>\n",
       "      <td>1425.657895</td>\n",
       "    </tr>\n",
       "    <tr>\n",
       "      <th>4</th>\n",
       "      <td>Blount</td>\n",
       "      <td>7705.540541</td>\n",
       "    </tr>\n",
       "    <tr>\n",
       "      <th>...</th>\n",
       "      <td>...</td>\n",
       "      <td>...</td>\n",
       "    </tr>\n",
       "    <tr>\n",
       "      <th>90</th>\n",
       "      <td>Wayne</td>\n",
       "      <td>1547.582278</td>\n",
       "    </tr>\n",
       "    <tr>\n",
       "      <th>91</th>\n",
       "      <td>Weakley</td>\n",
       "      <td>2740.422078</td>\n",
       "    </tr>\n",
       "    <tr>\n",
       "      <th>92</th>\n",
       "      <td>White</td>\n",
       "      <td>3120.613861</td>\n",
       "    </tr>\n",
       "    <tr>\n",
       "      <th>93</th>\n",
       "      <td>Williamson</td>\n",
       "      <td>13777.981481</td>\n",
       "    </tr>\n",
       "    <tr>\n",
       "      <th>94</th>\n",
       "      <td>Wilson</td>\n",
       "      <td>8700.420290</td>\n",
       "    </tr>\n",
       "  </tbody>\n",
       "</table>\n",
       "<p>95 rows × 2 columns</p>\n",
       "</div>"
      ],
      "text/plain": [
       "        COUNTY     ADJAVGDLY\n",
       "0     Anderson   6151.110429\n",
       "1      Bedford   4140.655462\n",
       "2       Benton   2255.406593\n",
       "3      Bledsoe   1425.657895\n",
       "4       Blount   7705.540541\n",
       "..         ...           ...\n",
       "90       Wayne   1547.582278\n",
       "91     Weakley   2740.422078\n",
       "92       White   3120.613861\n",
       "93  Williamson  13777.981481\n",
       "94      Wilson   8700.420290\n",
       "\n",
       "[95 rows x 2 columns]"
      ]
     },
     "execution_count": 392,
     "metadata": {},
     "output_type": "execute_result"
    }
   ],
   "source": [
    "geo_traffic_data.groupby('COUNTY')['ADJAVGDLY'].mean().reset_index()"
   ]
  },
  {
   "cell_type": "code",
   "execution_count": null,
   "metadata": {},
   "outputs": [],
   "source": []
  },
  {
   "cell_type": "code",
   "execution_count": null,
   "metadata": {},
   "outputs": [],
   "source": []
  },
  {
   "cell_type": "code",
   "execution_count": 385,
   "metadata": {},
   "outputs": [
    {
     "ename": "SyntaxError",
     "evalue": "invalid syntax (<ipython-input-385-b61d1380d92c>, line 2)",
     "output_type": "error",
     "traceback": [
      "\u001b[1;36m  File \u001b[1;32m\"<ipython-input-385-b61d1380d92c>\"\u001b[1;36m, line \u001b[1;32m2\u001b[0m\n\u001b[1;33m    for index in geo_traffic_data\u001b[0m\n\u001b[1;37m                                 ^\u001b[0m\n\u001b[1;31mSyntaxError\u001b[0m\u001b[1;31m:\u001b[0m invalid syntax\n"
     ]
    }
   ],
   "source": [
    "for index in county_list:\n",
    "    for index in geo_traffic_data"
   ]
  },
  {
   "cell_type": "code",
   "execution_count": 390,
   "metadata": {},
   "outputs": [
    {
     "ename": "TypeError",
     "evalue": "can only concatenate str (not \"int\") to str",
     "output_type": "error",
     "traceback": [
      "\u001b[1;31m---------------------------------------------------------------------------\u001b[0m",
      "\u001b[1;31mTypeError\u001b[0m                                 Traceback (most recent call last)",
      "\u001b[1;32m<ipython-input-390-c36b4845ba4a>\u001b[0m in \u001b[0;36m<module>\u001b[1;34m\u001b[0m\n\u001b[0;32m      5\u001b[0m \u001b[1;32mfor\u001b[0m \u001b[0ml\u001b[0m \u001b[1;32min\u001b[0m \u001b[0mcounty_list\u001b[0m\u001b[1;33m:\u001b[0m\u001b[1;33m\u001b[0m\u001b[1;33m\u001b[0m\u001b[0m\n\u001b[0;32m      6\u001b[0m \u001b[1;33m\u001b[0m\u001b[0m\n\u001b[1;32m----> 7\u001b[1;33m     \u001b[0mtemp_df\u001b[0m \u001b[1;33m=\u001b[0m \u001b[0mgeo_traffic_data\u001b[0m\u001b[1;33m.\u001b[0m\u001b[0miloc\u001b[0m\u001b[1;33m[\u001b[0m\u001b[0ml\u001b[0m\u001b[1;33m[\u001b[0m\u001b[1;36m0\u001b[0m\u001b[1;33m]\u001b[0m \u001b[1;33m:\u001b[0m \u001b[0ml\u001b[0m\u001b[1;33m[\u001b[0m\u001b[1;36m1\u001b[0m\u001b[1;33m]\u001b[0m \u001b[1;33m+\u001b[0m \u001b[1;36m1\u001b[0m\u001b[1;33m,\u001b[0m\u001b[1;33m:\u001b[0m\u001b[1;33m]\u001b[0m\u001b[1;33m.\u001b[0m\u001b[0mgroupby\u001b[0m\u001b[1;33m(\u001b[0m\u001b[1;33m[\u001b[0m\u001b[1;34m'countyavg'\u001b[0m\u001b[1;33m]\u001b[0m\u001b[1;33m)\u001b[0m\u001b[1;33m.\u001b[0m\u001b[0magg\u001b[0m\u001b[1;33m(\u001b[0m\u001b[1;32mlambda\u001b[0m \u001b[0mx\u001b[0m \u001b[1;33m:\u001b[0m \u001b[1;34m''\u001b[0m\u001b[1;33m.\u001b[0m\u001b[0mjoin\u001b[0m\u001b[1;33m(\u001b[0m\u001b[0mx\u001b[0m\u001b[1;33m)\u001b[0m\u001b[1;33m)\u001b[0m\u001b[1;33m.\u001b[0m\u001b[0mreset_index\u001b[0m\u001b[1;33m(\u001b[0m\u001b[0mdrop\u001b[0m \u001b[1;33m=\u001b[0m \u001b[1;32mTrue\u001b[0m\u001b[1;33m)\u001b[0m\u001b[1;33m\u001b[0m\u001b[1;33m\u001b[0m\u001b[0m\n\u001b[0m\u001b[0;32m      8\u001b[0m \u001b[1;33m\u001b[0m\u001b[0m\n\u001b[0;32m      9\u001b[0m     \u001b[0mnew_geo_traffic\u001b[0m \u001b[1;33m=\u001b[0m \u001b[0mpd\u001b[0m\u001b[1;33m.\u001b[0m\u001b[0mconcat\u001b[0m\u001b[1;33m(\u001b[0m\u001b[1;33m[\u001b[0m\u001b[0mnew_geo_traffic\u001b[0m\u001b[1;33m,\u001b[0m \u001b[0mtemp_df\u001b[0m\u001b[1;33m]\u001b[0m\u001b[1;33m,\u001b[0m \u001b[0mignore_index\u001b[0m \u001b[1;33m=\u001b[0m \u001b[1;32mTrue\u001b[0m\u001b[1;33m)\u001b[0m\u001b[1;33m\u001b[0m\u001b[1;33m\u001b[0m\u001b[0m\n",
      "\u001b[1;31mTypeError\u001b[0m: can only concatenate str (not \"int\") to str"
     ]
    }
   ],
   "source": [
    "geo_traffic_data['countyavg'] = 'countyavg'\n",
    "\n",
    "new_geo_traffic = pd.DataFrame()\n",
    "\n",
    "for l in county_list:\n",
    "\n",
    "    temp_df = geo_traffic_data.iloc[l[0] : l[1] + 1,:].groupby(['countyavg']).agg(lambda x : ''.join(x)).reset_index(drop = True)\n",
    "\n",
    "    new_geo_traffic = pd.concat([new_geo_traffic, temp_df], ignore_index = True)\n",
    "\n",
    "new_df"
   ]
  },
  {
   "cell_type": "code",
   "execution_count": null,
   "metadata": {},
   "outputs": [],
   "source": []
  },
  {
   "cell_type": "code",
   "execution_count": null,
   "metadata": {},
   "outputs": [],
   "source": []
  },
  {
   "cell_type": "code",
   "execution_count": null,
   "metadata": {},
   "outputs": [],
   "source": []
  },
  {
   "cell_type": "markdown",
   "metadata": {},
   "source": [
    "### Cleaning the Tornado Data"
   ]
  },
  {
   "cell_type": "code",
   "execution_count": null,
   "metadata": {},
   "outputs": [],
   "source": [
    "#tornado_tracks = tornado_tracks.drop([''])"
   ]
  },
  {
   "cell_type": "code",
   "execution_count": null,
   "metadata": {},
   "outputs": [],
   "source": []
  },
  {
   "cell_type": "code",
   "execution_count": null,
   "metadata": {},
   "outputs": [],
   "source": []
  },
  {
   "cell_type": "code",
   "execution_count": null,
   "metadata": {},
   "outputs": [],
   "source": []
  },
  {
   "cell_type": "code",
   "execution_count": null,
   "metadata": {},
   "outputs": [],
   "source": []
  },
  {
   "cell_type": "code",
   "execution_count": null,
   "metadata": {},
   "outputs": [],
   "source": []
  },
  {
   "cell_type": "code",
   "execution_count": null,
   "metadata": {},
   "outputs": [],
   "source": []
  },
  {
   "cell_type": "code",
   "execution_count": null,
   "metadata": {},
   "outputs": [],
   "source": []
  },
  {
   "cell_type": "markdown",
   "metadata": {},
   "source": [
    "### Experimenting Plotting the Data"
   ]
  },
  {
   "cell_type": "code",
   "execution_count": null,
   "metadata": {},
   "outputs": [],
   "source": [
    "gplt.kdeplot(geo_traffic_data, cmap = 'Reds', figsize = (30, 30), thresh = 0.05)"
   ]
  },
  {
   "cell_type": "code",
   "execution_count": null,
   "metadata": {},
   "outputs": [],
   "source": [
    "#The chart above may not work because I haven't made a connection between the two geodataframes to make their values match"
   ]
  },
  {
   "cell_type": "code",
   "execution_count": null,
   "metadata": {},
   "outputs": [],
   "source": [
    "geo_traffic_data.plot(figsize = (30,30))"
   ]
  },
  {
   "cell_type": "code",
   "execution_count": null,
   "metadata": {
    "scrolled": true
   },
   "outputs": [],
   "source": [
    "gplt.pointplot(geo_traffic_data, projection=gcrs.AlbersEqualArea(), hue = 'ADJAVGDLY', legend=True, figsize = (20,20))"
   ]
  },
  {
   "cell_type": "code",
   "execution_count": null,
   "metadata": {},
   "outputs": [],
   "source": [
    "#area_center = [center.y, center.x]"
   ]
  },
  {
   "cell_type": "code",
   "execution_count": null,
   "metadata": {},
   "outputs": [],
   "source": [
    "#[35.7559741, -90.4667597]"
   ]
  },
  {
   "cell_type": "code",
   "execution_count": null,
   "metadata": {},
   "outputs": [],
   "source": [
    "#map_tn = folium.Map(location = area_center, zoom_start = 12)\n"
   ]
  },
  {
   "cell_type": "code",
   "execution_count": null,
   "metadata": {},
   "outputs": [],
   "source": [
    "ax = gplt.polyplot(counties, projection=gcrs.AlbersEqualArea())\n",
    "gplt.kdeplot(geo_traffic_data, cmap='Reds', shade=True, clip=counties, ax=ax)"
   ]
  },
  {
   "cell_type": "code",
   "execution_count": null,
   "metadata": {},
   "outputs": [],
   "source": [
    "ax = gplt.polyplot(counties)\n",
    "gplt.kdeplot(geo_traffic_data, cmap='Reds', shade=True, clip=counties, ax=ax)"
   ]
  },
  {
   "cell_type": "code",
   "execution_count": null,
   "metadata": {},
   "outputs": [],
   "source": [
    "plt.plot(counties)"
   ]
  },
  {
   "cell_type": "code",
   "execution_count": null,
   "metadata": {},
   "outputs": [],
   "source": [
    "counties.plot();"
   ]
  },
  {
   "cell_type": "code",
   "execution_count": null,
   "metadata": {},
   "outputs": [],
   "source": [
    "#fig, ax = matplotlib.subplots()\n",
    "ax = counties.plot(figsize = (8, 10), color = 'lightgreen')\n",
    "geo_traffic_data.plot( ax = ax, column = 'ADJAVGDLY');\n",
    "plt.show();"
   ]
  },
  {
   "cell_type": "code",
   "execution_count": null,
   "metadata": {},
   "outputs": [],
   "source": [
    "counties.crs"
   ]
  },
  {
   "cell_type": "code",
   "execution_count": null,
   "metadata": {},
   "outputs": [],
   "source": [
    "geo_traffic_data.crs"
   ]
  },
  {
   "cell_type": "code",
   "execution_count": null,
   "metadata": {},
   "outputs": [],
   "source": []
  }
 ],
 "metadata": {
  "kernelspec": {
   "display_name": "Python 3",
   "language": "python",
   "name": "python3"
  },
  "language_info": {
   "codemirror_mode": {
    "name": "ipython",
    "version": 3
   },
   "file_extension": ".py",
   "mimetype": "text/x-python",
   "name": "python",
   "nbconvert_exporter": "python",
   "pygments_lexer": "ipython3",
   "version": "3.8.5"
  }
 },
 "nbformat": 4,
 "nbformat_minor": 4
}
